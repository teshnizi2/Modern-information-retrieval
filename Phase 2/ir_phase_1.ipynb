{
 "cells": [
  {
   "cell_type": "markdown",
   "metadata": {},
   "source": [
    "<div style=\"direction:rtl;line-height:300%;\">\n",
    "<font face=\"XB Zar\" size=5>\n",
    "<div align=center>\n",
    "<font face=\"B Titr\" size=5>\n",
    "<p></p><p></p>\n",
    "بسمه تعالی\n",
    "<p></p>\n",
    "</font>\n",
    "<p></p>\n",
    "<font>\n",
    "<br>\n",
    "درس بازیابی پیشرفته اطلاعات\n",
    "<br>\n",
    "مدرس: دکتر سلیمانی\n",
    "</font>\n",
    "<p></p>\n",
    "<br>\n",
    "<font>\n",
    "<b>فاز اول پروژه</b>\n",
    "</font>\n",
    "<br>\n",
    "<br>\n",
    "موعد تحویل: ۸ فروردین <br>\n",
    "<br>\n",
    "<br>\n",
    "<br>\n",
    "<font>\n",
    "دانشگاه صنعتی شریف\n",
    "<br>\n",
    "دانشکده مهندسی کامپیوتر\n",
    "<br>\n",
    "<br>\n",
    "</font>\n",
    "</div>\n",
    "</font>\n",
    "</div>"
   ]
  },
  {
   "cell_type": "markdown",
   "metadata": {},
   "source": [
    "<div dir=\"rtl\">\n",
    "<font face=\"XB Zar\" size=6>\n",
    "    <h1>\n",
    "    <b>مقدمه</b>\n",
    "    </h1>\n",
    "    <p></p>\n",
    "    <p></p>\n",
    "</font>\n",
    "<font face=\"XB Zar\" size=3>\n",
    "    پروژه‌ی درس متشکل از ۳ فاز است.\n",
    "    دادگان مورد استفاده در پروژه، مقالات علمی استخراج شده از سایت <a href=\"https://www.semanticscholar.org/\">Semantic Scholar</a> هستند. مقالات به دو دسته‌ی \n",
    "    «هوش مصنوعی , بیوانفورماتیک» و «سخت‌افزار و سیستم» \n",
    "    تقسیم شده‌اند. تخصصی بودن حوزه‌ی بازیابی می‌تواند به بهبود کیفیت آن کمک نماید.\n",
    "    <b><u>\n",
    "    پیش از هر چیز ابتدا یکی از این دو دسته را برای کار انتخاب نمایید.\n",
    "    </u></b>\n",
    "     امیدواریم تا انتهای پروژه بتوانید برای یکی از این دسته‌ها یک سیستم جست‌و‌جوی مقالات بسیار خوب پیاده‌سازی کنید.\n",
    "</font>\n",
    "</div>"
   ]
  },
  {
   "cell_type": "markdown",
   "metadata": {},
   "source": [
    "<div dir=\"rtl\">\n",
    "<font face=\"XB Zar\" size=5>\n",
    "    <h1>\n",
    "    <b>فاز اول</b>\n",
    "    </h1>\n",
    "    <p></p>\n",
    "    <p></p>\n",
    "</font>\n",
    "<font face=\"XB Zar\" size=3>\n",
    "     <br>\n",
    "    هدف از فاز اول پروژه، طراحی و پیاده سازی سیستم بازیابی اطلاعات برای مجموعه دادگان ارائه شده است. در این فاز شناسه، چکیده و عنوان مقالات در اختیارتان قرار گرفته است.\n",
    "    در ابتدای هر بخش توضیح کوتاهی درباره آن بخش آورده شده است. در تمامی کد نیاز است که قسمت‌های TODO را کامل کنید. ملاک نمره دهی در این فاز صحت عملکرد توابع سیستم است. بنابراین از اجرا شدن کد خود اطمینان حاصل کنید و هر جا نیاز به توضیح بود می‌توانید به صورت کامنت یا در ادامه کد توضیح مربوطه خود را بنویسید (ارائه توضیح ضروری نیست و تنها در صورتی که شما احساس نیاز کردید، می‌توانید توضیح کوتاهی ارائه کنید. بنابراین ارائه توضیح نمره نخواهد داشت.) در زمان آپلود فراموش نکنید هر فایلی که نیاز است را آپلود کنید. نمره ی کامل این فاز ۱۰۰ بوده و مابقی امتیازیست.\n",
    "    <br>\n",
    "     تنها زبان قابل قبول برای پروژه پایتون است. محدودیت استفاده از کتاب‌خانه‌های آماده در هر بخش مشخص شده است. در انتهای پروژه قرار است یک سیستم یکپارچه‌ی جست‌و‌جو داشته باشید، بنابراین به پیاده‌سازی هر چه بهتر این فاز توجه داشته باشید.\n",
    "</font>\n",
    "</div>\n"
   ]
  },
  {
   "cell_type": "code",
   "execution_count": null,
   "outputs": [],
   "source": [
    "print('Start')"
   ],
   "metadata": {
    "collapsed": false
   }
  },
  {
   "cell_type": "markdown",
   "metadata": {},
   "source": [
    "<div dir=\"rtl\">\n",
    "<font face=\"XB Zar\" size=4>\n",
    "    <h1>\n",
    "    <b>پیش‌پردازش و آماده‌سازی داده‌ها (۶ + ۲ + ۱ نمره)</b>\n",
    "    </h1>\n",
    "</font>\n",
    "<font face=\"XB Zar\" size=3>\n",
    "    در بخش اول ابتدا داده‌ها را از فایل خوانده و سپس با استفاده از کتابخانه‌های آماده‌ به پیش پردازش آنها بپردازید. در این قسمت نحوه پیاده سازی به شما برمی‌گردد. کتابخانه‌هایی که می‌توانید از آنها استفاده کنید <a href=\"https://spacy.io/\">SpaCy</a>  و <a href=\"https://www.nltk.org/\">NLTK</a>  است. \n",
    "    در این قسمت تابع clean_data() را پیاده سازی کنید. عملکرد تابع به این صورت است که یک متن به عنوان ورودی گرفته و توکن‌های ولید آن را به صورت یک لیست که عملیات lemmatization, stemming و case folding اجرا شده است خروجی می‌دهد. متن ورودی شامل عنوان مقاله یا چکیده آنهاست. \n",
    "    دقت کنید علائم نگارشی باید از متون حذف شده باشند. در قسمت بعد کلمات اضافه بی تاثیر را یافته و مطابق توضیحات عمل کنید.\n",
    "</font>\n",
    "</div>"
   ]
  },
  {
   "cell_type": "code",
   "execution_count": 5,
   "outputs": [],
   "source": [
    "from nltk.stem import PorterStemmer\n",
    "from nltk.stem import WordNetLemmatizer\n",
    "from nltk.tokenize import word_tokenize\n",
    "\n",
    "from typing import List, Dict\n",
    "import string\n",
    "import math\n",
    "import copy\n",
    "\n",
    "from threading import Thread\n",
    "from tqdm import tqdm\n",
    "\n",
    "import pandas as pd\n",
    "\n",
    "import json\n",
    "from pathlib import Path\n",
    "import os\n",
    "\n",
    "import editdistance"
   ],
   "metadata": {
    "collapsed": false,
    "ExecuteTime": {
     "start_time": "2023-04-12T21:04:36.652292Z",
     "end_time": "2023-04-12T21:04:44.532967Z"
    }
   }
  },
  {
   "cell_type": "code",
   "execution_count": 6,
   "metadata": {
    "ExecuteTime": {
     "start_time": "2023-04-12T21:04:44.538326Z",
     "end_time": "2023-04-12T21:04:45.878314Z"
    }
   },
   "outputs": [
    {
     "name": "stdout",
     "output_type": "stream",
     "text": [
      "my_return: ['an', 'abstract', 'is', 'a', 'summari', 'of', 'the', 'main', 'articl']\n",
      "expected_return!!!!!!!: ['an', 'abstract', 'is', 'a', 'summary', 'of', 'the', 'main', 'article']\n"
     ]
    }
   ],
   "source": [
    "print('Start preprocessing ...')\n",
    "\n",
    "## 6 points\n",
    "def clean_data(text: str, should_tokenized: bool=True, complete_clean=True):\n",
    "    \"\"\"Preprocesses the text with tokenization, case folding, stemming and lemmatization, and punctuations\n",
    "\n",
    "    Parameters\n",
    "    ----------\n",
    "    text : str\n",
    "        The title or abstract of an article\n",
    "\n",
    "    Returns\n",
    "    -------\n",
    "    list\n",
    "        A list of tokens\n",
    "    \"\"\"\n",
    "\n",
    "    # case_folded maybe is not needed because PorterStemmer does it\n",
    "    case_folded = text.lower()\n",
    "    remove_punctuations = case_folded.translate(str.maketrans('', '', string.punctuation))\n",
    "\n",
    "    if should_tokenized:\n",
    "        tokenized = word_tokenize(remove_punctuations)\n",
    "    else:\n",
    "        tokenized = [remove_punctuations]\n",
    "\n",
    "    if complete_clean:\n",
    "        stemmer = PorterStemmer()\n",
    "        lemmatizer = WordNetLemmatizer()\n",
    "        for i in range(len(tokenized)):\n",
    "            stem = stemmer.stem(tokenized[i])\n",
    "            tokenized[i] = lemmatizer.lemmatize(stem)\n",
    "\n",
    "    return tokenized\n",
    "\n",
    "# my_return = clean_data(\"An abstract is a summary of the main article.\")\n",
    "# return [\"an\", \"abstract\", \"is\", \"a\", \"summary\", \"of\", \"the\", \"main\", \"article\"]\n",
    "# expected_return = [\"an\", \"abstract\", \"is\", \"a\", \"summary\", \"of\", \"the\", \"main\", \"article\"]\n",
    "\n",
    "# print('my_return:', my_return)\n",
    "# print('expected_return!!!!!!!:', expected_return)"
   ]
  },
  {
   "cell_type": "markdown",
   "metadata": {},
   "source": [
    "<p></p>\n",
    "<div dir=\"rtl\">\n",
    "<font face=\"XB Zar\" size=3>\n",
    "در مرحله بعد تابع find_stop_words() را پیاده سازی کنید که کارکرد آن پیدا کردن توکن‌های اضافه است. \n",
    "توجه کنید که برای حذف stop wordها باید به گونه ای عمل کنید که ابتدا توکن‌های با بیشترین تکرار را  پیدا کرده و سپس به ۳۰ توکن با بیشترین تکرار را از میان تمامی توکن‌های متن حذف کنید. بدیهی است که stop word ها معمولا معنای زیادی همراه با خود ندارند. به این نکته در حذف آنها توجه کنید. در نهایت stop word هایی را که یافته‌اید به همراه تعداد دفعات تکرار به هر فرمتی در خروجی چاپ کنید. (۲ نمره)\n",
    "</font>\n",
    "</div>\n",
    "<p></p>"
   ]
  },
  {
   "cell_type": "code",
   "execution_count": 7,
   "metadata": {
    "ExecuteTime": {
     "start_time": "2023-04-12T21:04:45.993960Z",
     "end_time": "2023-04-12T21:04:46.030523Z"
    }
   },
   "outputs": [],
   "source": [
    "## 2 points\n",
    "\n",
    "def find_stop_words(all_text : List[str], num_token=30, should_print=False):\n",
    "    \"\"\"Detects stop-words\n",
    "\n",
    "     Parameters\n",
    "    ----------\n",
    "    all_text : list of all tokens\n",
    "        (result of clean_data(text) for all the text)\n",
    "\n",
    "    Returns\n",
    "    -------\n",
    "    Return Value is optional but must print the stop words and number of their occurence\n",
    "    \"\"\"\n",
    "\n",
    "    words = {}\n",
    "    not_a_stop_word = ['nan']\n",
    "    for word in all_text:\n",
    "        if word in words:\n",
    "            words[word] += 1\n",
    "        elif word not in not_a_stop_word:\n",
    "            words[word] = 1\n",
    "\n",
    "\n",
    "    stop_words = sorted(words, key=lambda x: words[x], reverse=True)\n",
    "    repetitions = sorted(words.values(), reverse=True)\n",
    "    stop_words = stop_words[:num_token]\n",
    "    repetitions = repetitions[:num_token]\n",
    "\n",
    "    if should_print:\n",
    "        print('stop_words:')\n",
    "        for i in range(len(stop_words)):\n",
    "            print(f'({stop_words[i]}, {repetitions[i]}),', end=' ')\n",
    "        print()\n",
    "\n",
    "    return stop_words, repetitions"
   ]
  },
  {
   "cell_type": "code",
   "execution_count": 8,
   "metadata": {
    "ExecuteTime": {
     "start_time": "2023-04-12T21:04:50.993770Z",
     "end_time": "2023-04-12T21:04:51.094124Z"
    }
   },
   "outputs": [],
   "source": [
    "## 1 points\n",
    "\n",
    "df = pd.read_csv('AI & Bioinformatics/data.csv')\n",
    "df.drop_duplicates(subset=df.columns[0], keep='first', inplace=True)\n",
    "clean_df = pd.DataFrame(index=df.index.copy(), columns=df.columns.copy(), data=df.values.copy())"
   ]
  },
  {
   "cell_type": "code",
   "execution_count": 9,
   "outputs": [
    {
     "data": {
      "text/plain": "                                    paperId  \\\n0  40ea606185b59cd07b456cb1022d64bf41f5538d   \n1  597c2d96c45e8ad83fc08e5d464d266b68f873ed   \n2  afbf330f0180320deff12fe42ded4f087b4a1811   \n3  fa57e1cbaa46211499749cc75172e9ced26ad539   \n4  8780ce7c0d09d36d293def6be23e64b12c644169   \n\n                                               title  \\\n0  [analysi, on, ground, surfac, in, ultrason, fa...   \n1  [measur, sarscov2, neutral, antibodi, activ, u...   \n2                 [a, variat, model, for, disocclus]   \n3  [helicoid, arrang, polyacrylonitril, fiberrein...   \n4  [the, interact, of, sirt4, and, calreticulin, ...   \n\n                                            abstract Unnamed: 3 Unnamed: 4  \n0                                                 []        NaN        NaN  \n1  [the, emerg, of, sarscov2, ha, creat, a, need,...        NaN        NaN  \n2  [in, thi, paper, we, studi, a, variat, approac...        NaN        NaN  \n3  [in, thi, studi, we, demonstr, the, use, of, p...        NaN        NaN  \n4                                                 []        NaN        NaN  ",
      "text/html": "<div>\n<style scoped>\n    .dataframe tbody tr th:only-of-type {\n        vertical-align: middle;\n    }\n\n    .dataframe tbody tr th {\n        vertical-align: top;\n    }\n\n    .dataframe thead th {\n        text-align: right;\n    }\n</style>\n<table border=\"1\" class=\"dataframe\">\n  <thead>\n    <tr style=\"text-align: right;\">\n      <th></th>\n      <th>paperId</th>\n      <th>title</th>\n      <th>abstract</th>\n      <th>Unnamed: 3</th>\n      <th>Unnamed: 4</th>\n    </tr>\n  </thead>\n  <tbody>\n    <tr>\n      <th>0</th>\n      <td>40ea606185b59cd07b456cb1022d64bf41f5538d</td>\n      <td>[analysi, on, ground, surfac, in, ultrason, fa...</td>\n      <td>[]</td>\n      <td>NaN</td>\n      <td>NaN</td>\n    </tr>\n    <tr>\n      <th>1</th>\n      <td>597c2d96c45e8ad83fc08e5d464d266b68f873ed</td>\n      <td>[measur, sarscov2, neutral, antibodi, activ, u...</td>\n      <td>[the, emerg, of, sarscov2, ha, creat, a, need,...</td>\n      <td>NaN</td>\n      <td>NaN</td>\n    </tr>\n    <tr>\n      <th>2</th>\n      <td>afbf330f0180320deff12fe42ded4f087b4a1811</td>\n      <td>[a, variat, model, for, disocclus]</td>\n      <td>[in, thi, paper, we, studi, a, variat, approac...</td>\n      <td>NaN</td>\n      <td>NaN</td>\n    </tr>\n    <tr>\n      <th>3</th>\n      <td>fa57e1cbaa46211499749cc75172e9ced26ad539</td>\n      <td>[helicoid, arrang, polyacrylonitril, fiberrein...</td>\n      <td>[in, thi, studi, we, demonstr, the, use, of, p...</td>\n      <td>NaN</td>\n      <td>NaN</td>\n    </tr>\n    <tr>\n      <th>4</th>\n      <td>8780ce7c0d09d36d293def6be23e64b12c644169</td>\n      <td>[the, interact, of, sirt4, and, calreticulin, ...</td>\n      <td>[]</td>\n      <td>NaN</td>\n      <td>NaN</td>\n    </tr>\n  </tbody>\n</table>\n</div>"
     },
     "execution_count": 9,
     "metadata": {},
     "output_type": "execute_result"
    }
   ],
   "source": [
    "iterated_columns = df.columns.get_indexer(['title', 'abstract'])\n",
    "\n",
    "all_text = []\n",
    "TOTAL_END = len(df)\n",
    "def make_df_clean(row_index_range):\n",
    "    global df, clean_df, all_text\n",
    "    for row_index in row_index_range:\n",
    "        current_row = df.iloc[row_index]\n",
    "        clean_current_row = clean_df.iloc[row_index]\n",
    "\n",
    "        for column_index in iterated_columns:\n",
    "            cell_clean_data = clean_data(str(current_row.iloc[column_index]))\n",
    "\n",
    "            if 'nan' in cell_clean_data:\n",
    "                cell_clean_data.remove('nan')\n",
    "\n",
    "            clean_current_row.iloc[column_index] = cell_clean_data\n",
    "            all_text.extend(cell_clean_data)\n",
    "\n",
    "\n",
    "NUMBER_OF_SLICE = 10\n",
    "step = int(TOTAL_END / NUMBER_OF_SLICE)\n",
    "total_range = range(0, TOTAL_END, step)\n",
    "\n",
    "threads = []\n",
    "for i in range(len(total_range)):\n",
    "    start = total_range[i]\n",
    "    if i < len(total_range) - 1:\n",
    "        end = total_range[i + 1]\n",
    "    else:\n",
    "        end = TOTAL_END\n",
    "\n",
    "    thread = Thread(target=make_df_clean, args=(range(start, end), ))\n",
    "    thread.start()\n",
    "    threads.append(thread)\n",
    "\n",
    "for thread in threads:\n",
    "    thread.join()\n",
    "\n",
    "# clean_df.head()"
   ],
   "metadata": {
    "collapsed": false,
    "ExecuteTime": {
     "start_time": "2023-04-12T21:04:55.614556Z",
     "end_time": "2023-04-12T21:05:38.688583Z"
    }
   }
  },
  {
   "cell_type": "code",
   "execution_count": 10,
   "outputs": [
    {
     "name": "stdout",
     "output_type": "stream",
     "text": [
      "stop_words:\n",
      "(the, 42562), (of, 31707), (and, 28906), (a, 19877), (in, 19702), (to, 17467), (for, 9970), (with, 8382), (is, 8039), (that, 6552), (we, 6287), (on, 5893), (use, 4946), (by, 4861), (thi, 4723), (are, 4294), (model, 4074), (an, 3497), (from, 3480), (method, 3262), (cell, 3239), (data, 3158), (be, 2731), (imag, 2730), (it, 2643), (were, 2584), (wa, 2580), (studi, 2519), (result, 2465), (which, 2454), \n",
      "clean df head:\n"
     ]
    },
    {
     "data": {
      "text/plain": "                                    paperId  \\\n0  40ea606185b59cd07b456cb1022d64bf41f5538d   \n1  597c2d96c45e8ad83fc08e5d464d266b68f873ed   \n2  afbf330f0180320deff12fe42ded4f087b4a1811   \n3  fa57e1cbaa46211499749cc75172e9ced26ad539   \n4  8780ce7c0d09d36d293def6be23e64b12c644169   \n\n                                               title  \\\n0  [analysi, ground, surfac, ultrason, face, grin...   \n1  [measur, sarscov2, neutral, antibodi, activ, p...   \n2                           [variat, for, disocclus]   \n3  [helicoid, arrang, polyacrylonitril, fiberrein...   \n4  [interact, sirt4, calreticulin, dure, er, stre...   \n\n                                            abstract Unnamed: 3 Unnamed: 4  \n0                                                 []        NaN        NaN  \n1  [emerg, sarscov2, ha, creat, need, robust, ass...        NaN        NaN  \n2  [paper, studi, variat, approach, fillingin, re...        NaN        NaN  \n3  [we, demonstr, parallel, plate, far, field, el...        NaN        NaN  \n4                                                 []        NaN        NaN  ",
      "text/html": "<div>\n<style scoped>\n    .dataframe tbody tr th:only-of-type {\n        vertical-align: middle;\n    }\n\n    .dataframe tbody tr th {\n        vertical-align: top;\n    }\n\n    .dataframe thead th {\n        text-align: right;\n    }\n</style>\n<table border=\"1\" class=\"dataframe\">\n  <thead>\n    <tr style=\"text-align: right;\">\n      <th></th>\n      <th>paperId</th>\n      <th>title</th>\n      <th>abstract</th>\n      <th>Unnamed: 3</th>\n      <th>Unnamed: 4</th>\n    </tr>\n  </thead>\n  <tbody>\n    <tr>\n      <th>0</th>\n      <td>40ea606185b59cd07b456cb1022d64bf41f5538d</td>\n      <td>[analysi, ground, surfac, ultrason, face, grin...</td>\n      <td>[]</td>\n      <td>NaN</td>\n      <td>NaN</td>\n    </tr>\n    <tr>\n      <th>1</th>\n      <td>597c2d96c45e8ad83fc08e5d464d266b68f873ed</td>\n      <td>[measur, sarscov2, neutral, antibodi, activ, p...</td>\n      <td>[emerg, sarscov2, ha, creat, need, robust, ass...</td>\n      <td>NaN</td>\n      <td>NaN</td>\n    </tr>\n    <tr>\n      <th>2</th>\n      <td>afbf330f0180320deff12fe42ded4f087b4a1811</td>\n      <td>[variat, for, disocclus]</td>\n      <td>[paper, studi, variat, approach, fillingin, re...</td>\n      <td>NaN</td>\n      <td>NaN</td>\n    </tr>\n    <tr>\n      <th>3</th>\n      <td>fa57e1cbaa46211499749cc75172e9ced26ad539</td>\n      <td>[helicoid, arrang, polyacrylonitril, fiberrein...</td>\n      <td>[we, demonstr, parallel, plate, far, field, el...</td>\n      <td>NaN</td>\n      <td>NaN</td>\n    </tr>\n    <tr>\n      <th>4</th>\n      <td>8780ce7c0d09d36d293def6be23e64b12c644169</td>\n      <td>[interact, sirt4, calreticulin, dure, er, stre...</td>\n      <td>[]</td>\n      <td>NaN</td>\n      <td>NaN</td>\n    </tr>\n  </tbody>\n</table>\n</div>"
     },
     "execution_count": 10,
     "metadata": {},
     "output_type": "execute_result"
    }
   ],
   "source": [
    "stop_words = find_stop_words(all_text, should_print=False)[0]\n",
    "\n",
    "def remove_stop_words(cell: list):\n",
    "    for word in cell:\n",
    "        if word in stop_words:\n",
    "            cell.remove(word)\n",
    "\n",
    "for row_index in range(len(clean_df)):\n",
    "    current_row = clean_df.iloc[row_index]\n",
    "\n",
    "    for column_index in iterated_columns:\n",
    "        current_cell = current_row.iloc[column_index]\n",
    "        remove_stop_words(current_cell)\n",
    "\n",
    "# print('clean df head:')\n",
    "# clean_df.head()"
   ],
   "metadata": {
    "collapsed": false,
    "ExecuteTime": {
     "start_time": "2023-04-12T21:05:45.003693Z",
     "end_time": "2023-04-12T21:12:19.910796Z"
    }
   }
  },
  {
   "cell_type": "markdown",
   "metadata": {},
   "source": [
    "<div dir=\"rtl\">\n",
    "<font face=\"XB Zar\" size=4>\n",
    "    <h1>\n",
    "    <b>نمایه‌سازی (۱۲ نمره)</b>\n",
    "    </h1>\n",
    "</font>\n",
    "<font face=\"XB Zar\" size=3>\n",
    "     در این بخش باید برای سامانه positional index بسازید.<br>\n",
    "    با توجه به مواردی که در بخش بعد می‌آید و نیاز به جست‌وجو‌ی مجزا و با امتیازدهی متفاوت بر روی بخش‌های مختلف سند مثل عنوان یا چکیده آن، در این قسمت باید نمایه‌ی مناسب برای امکان جست‌وجو‌ در بخش‌های مختلف پیاده‌سازی کنید. با استفاده از نمایه‌ی ساخته‌شده باید بتوان شماره تمامی اسنادی که یک کلمه در آن آمده است و همچنین همه جایگاه‌های این کلمه در هر بخش هر سند را پیدا کرد.<br>\n",
    "    \n",
    "</font>\n",
    "</div>"
   ]
  },
  {
   "cell_type": "code",
   "execution_count": 7,
   "outputs": [],
   "source": [
    "print('Indexing ...')\n",
    "\n",
    "def check_field(field, extend=[]):\n",
    "    global iterated_columns\n",
    "\n",
    "    field_names = clean_df.columns[iterated_columns]\n",
    "    field_names = list(field_names) + extend\n",
    "    if field not in field_names:\n",
    "        raise Exception(f'{field} is not a valid field name. Valid field names are: {field_names}')\n",
    "\n",
    "def get_document_by_id(doc_id: str, is_clean=True):\n",
    "    global df, clean_df\n",
    "\n",
    "    if is_clean:\n",
    "        column_name = clean_df.columns[0]\n",
    "        return clean_df.loc[clean_df[column_name] == doc_id]\n",
    "    else:\n",
    "        column_name = df.columns[0]\n",
    "        return df.loc[df[column_name] == doc_id]\n",
    "\n",
    "\n",
    "class DocPosting:\n",
    "    def __init__(self, json_str=None):\n",
    "        global iterated_columns\n",
    "\n",
    "        self.doc_posting = {}\n",
    "        place_names = clean_df.columns[iterated_columns]\n",
    "        for place in place_names:\n",
    "            self.doc_posting[place] = []\n",
    "\n",
    "        if json_str is not None:\n",
    "            json_dict = json.loads(json_str)\n",
    "            self.doc_posting = json_dict['doc_posting']\n",
    "\n",
    "    def toJSON(self):\n",
    "        return json.dumps(self, default=lambda o: o.__dict__)\n",
    "\n",
    "    def items(self):\n",
    "        return self.doc_posting.items()\n",
    "\n",
    "    def keys(self):\n",
    "        return self.doc_posting.keys()\n",
    "\n",
    "    def values(self):\n",
    "        return self.doc_posting.values()\n",
    "\n",
    "    def __getitem__(self, key):\n",
    "        return self.doc_posting[key]\n",
    "\n",
    "    def __setitem__(self, key, value):\n",
    "        self.doc_posting[key] = value\n",
    "\n",
    "    def __str__(self):\n",
    "        return str(self.doc_posting)\n",
    "\n",
    "    def __repr__(self):\n",
    "        return repr(self.doc_posting)\n",
    "\n",
    "    def __delitem__(self, key):\n",
    "        del self.doc_posting[key]\n",
    "\n",
    "\n",
    "class TrieNode:\n",
    "    def __init__(self, json_str=None):\n",
    "        self.children = {}\n",
    "        self.is_end = False\n",
    "        self.posting_list = {}\n",
    "\n",
    "        if json_str is not None:\n",
    "            json_dict = json.loads(json_str)\n",
    "            self.is_end = json_dict['is_end']\n",
    "\n",
    "            for k, v in json_dict['children'].items():\n",
    "                temp_json = json.dumps(v)\n",
    "                self.children[k] = TrieNode(temp_json)\n",
    "\n",
    "            for k, v in json_dict['posting_list'].items():\n",
    "                temp_json = json.dumps(v)\n",
    "                self.posting_list[k] = DocPosting(temp_json)\n",
    "\n",
    "    def add_child(self, char):\n",
    "        self.children[char] = TrieNode()\n",
    "\n",
    "    def get_child(self, char):\n",
    "        return self.children[char]\n",
    "\n",
    "    def has_child(self, char):\n",
    "        return char in self.children\n",
    "\n",
    "    def set_end(self, end=True):\n",
    "        self.is_end = end\n",
    "\n",
    "    def is_end_of_word(self):\n",
    "        return self.is_end\n",
    "\n",
    "    def add_to_posting_list(self, doc_id, field, position):\n",
    "        check_field(field)\n",
    "\n",
    "        if doc_id in self.posting_list:\n",
    "            self.posting_list[doc_id][field].append(position)\n",
    "        else:\n",
    "            self.posting_list[doc_id] = DocPosting()\n",
    "            self.posting_list[doc_id][field].append(position)\n",
    "\n",
    "    def remove_from_posting_list(self, doc_id, field, position):\n",
    "        check_field(field)\n",
    "\n",
    "        if doc_id in self.posting_list:\n",
    "            self.posting_list[doc_id][field].remove(position)\n",
    "        else:\n",
    "            raise Exception('doc_id not found in posting list')\n",
    "\n",
    "    def get_posting_list(self):\n",
    "        return self.posting_list\n",
    "\n",
    "    def toJSON(self):\n",
    "        return json.dumps(self, default=lambda o: o.__dict__)\n",
    "\n",
    "\n",
    "class Trie:\n",
    "    def __init__(self, json_str=None):\n",
    "        self.root = TrieNode()\n",
    "\n",
    "        if json_str is not None:\n",
    "            json_dict = json.loads(json_str)\n",
    "            temp_json = json.dumps(json_dict['root'])\n",
    "            self.root = TrieNode(temp_json)\n",
    "\n",
    "    def insert(self, word, doc_id, field, position):\n",
    "        \"\"\"\n",
    "        :param word: should be cleaned\n",
    "        \"\"\"\n",
    "        check_field(field)\n",
    "\n",
    "        current_node = self.root\n",
    "        for char in word:\n",
    "            if not current_node.has_child(char):\n",
    "                current_node.add_child(char)\n",
    "            current_node = current_node.get_child(char)\n",
    "\n",
    "        current_node.set_end()\n",
    "        current_node.add_to_posting_list(doc_id, field, position)\n",
    "\n",
    "    def remove(self, word, doc_id, field, position):\n",
    "        global iterated_columns\n",
    "\n",
    "        \"\"\"\n",
    "        :param word: should be cleaned\n",
    "        \"\"\"\n",
    "        check_field(field)\n",
    "\n",
    "        current_node = self.root\n",
    "        for char in word:\n",
    "            if not current_node.has_child(char):\n",
    "                raise Exception('word not found')\n",
    "            current_node = current_node.get_child(char)\n",
    "\n",
    "        if not current_node.is_end_of_word():\n",
    "            raise Exception('word not found')\n",
    "\n",
    "        current_node.remove_from_posting_list(doc_id, field, position)\n",
    "\n",
    "        for column_index in iterated_columns:\n",
    "            column_name = clean_df.columns[column_index]\n",
    "            if len(current_node.get_posting_list()[doc_id][column_name]) != 0:\n",
    "                return\n",
    "\n",
    "        del current_node.posting_list[doc_id]\n",
    "        if len(current_node.get_posting_list()) == 0:\n",
    "            current_node.set_end(False)\n",
    "\n",
    "    def search(self, word):\n",
    "        current_node = self.root\n",
    "        for char in word:\n",
    "            if not current_node.has_child(char):\n",
    "                return False\n",
    "            current_node = current_node.get_child(char)\n",
    "        return current_node.is_end_of_word()\n",
    "\n",
    "    def get_posting_list(self, word):\n",
    "        if not self.search(word):\n",
    "            raise Exception(f'{word} not found')\n",
    "\n",
    "        current_node = self.root\n",
    "        for char in word:\n",
    "            if not current_node.has_child(char):\n",
    "                raise Exception(f'{word} not found')\n",
    "            current_node = current_node.get_child(char)\n",
    "\n",
    "        return current_node.get_posting_list()\n",
    "\n",
    "    def get_all_words(self):\n",
    "        all_words = []\n",
    "        current_node = self.root\n",
    "        self._get_all_words(current_node, all_words, '')\n",
    "        return all_words\n",
    "\n",
    "    def _get_all_words(self, current_node, all_words, current_word):\n",
    "        if current_node.is_end_of_word():\n",
    "            all_words.append(current_word)\n",
    "        for char, child in current_node.children.items():\n",
    "            self._get_all_words(child, all_words, current_word + char)\n",
    "\n",
    "    def toJSON(self):\n",
    "        return json.dumps(self, default=lambda o: o.__dict__)"
   ],
   "metadata": {
    "collapsed": false,
    "ExecuteTime": {
     "start_time": "2023-04-12T04:59:11.605157Z",
     "end_time": "2023-04-12T04:59:11.663721Z"
    }
   }
  },
  {
   "cell_type": "code",
   "execution_count": 8,
   "metadata": {
    "ExecuteTime": {
     "start_time": "2023-04-12T04:59:11.639768Z",
     "end_time": "2023-04-12T04:59:25.368531Z"
    }
   },
   "outputs": [
    {
     "name": "stderr",
     "output_type": "stream",
     "text": [
      "Completed documents: 100%|██████████| 6183/6183 [00:13<00:00, 450.96it/s]\n"
     ]
    }
   ],
   "source": [
    "## 12 points\n",
    "\n",
    "\n",
    "def construct_positional_indexes(corpus: pd.DataFrame):\n",
    "    global iterated_columns\n",
    "\n",
    "    \"\"\"\n",
    "    Get processed data and insert words in that into a trie and construct postional_index and posting lists after wards.\n",
    "\n",
    "    Parameters\n",
    "    ----------\n",
    "    corpus: str\n",
    "        processed data \n",
    "    \n",
    "    Return\n",
    "    ----------\n",
    "    docs: \n",
    "        list of docs with specified id, title, abstract.\n",
    "    \"\"\"\n",
    "\n",
    "    trie = Trie()\n",
    "    pbar = tqdm(range(len(corpus)), desc='Completed documents')\n",
    "\n",
    "    for row_index in pbar:\n",
    "        current_row = corpus.iloc[row_index]\n",
    "        doc_id = current_row.iloc[0]\n",
    "\n",
    "        for column_index in iterated_columns:\n",
    "            current_cell = current_row.iloc[column_index]\n",
    "            for position, word in enumerate(current_cell):\n",
    "                trie.insert(word, doc_id, clean_df.columns[column_index], position)\n",
    "\n",
    "    return trie\n",
    "\n",
    "\n",
    "docs = construct_positional_indexes(clean_df)"
   ]
  },
  {
   "cell_type": "markdown",
   "metadata": {},
   "source": [
    "<div dir=\"rtl\">\n",
    "<font face=\"XB Zar\" size=4>\n",
    "    <h1>\n",
    "    <b>مشاهده (۱ نمره)</b>\n",
    "    </h1>\n",
    "</font>\n",
    "<font face=\"XB Zar\" size=3>\n",
    "        این بخش برای مشاهده \n",
    "        posting list\n",
    "        یک کلمه و جایگاه‌های کلمه در هر بخش سند است.<br>\n",
    "         تابع\n",
    "        get_posting_list\n",
    "        با گرفتن\n",
    "        word\n",
    "        به عنوان کلمه ورودی، یک دیکشنری به عنوان خروجی بر می‌گرداند که کلید‌های دیکشنری شناسه سند‌هایی است که کلمه در آن وجود داشته‌است.\n",
    "            برای هر شناسه سند آمده در کلید‌های دیکشنری، یک دیکشنری به عنوان مقدار وجود خواهد داشت که کلید‌های آن می‌تواند \n",
    "        title\n",
    "        و\n",
    "        abstract\n",
    "        باشد که جایگاه‌های آمدن کلمه در بخش‌های عنوان و چکیده به صورت لیست به عنوان مقدار هر یک از این کلید‌ها می‌آید. \n",
    "</font>\n",
    "</div>"
   ]
  },
  {
   "cell_type": "code",
   "execution_count": 9,
   "metadata": {
    "ExecuteTime": {
     "start_time": "2023-04-12T04:59:25.382504Z",
     "end_time": "2023-04-12T04:59:25.397840Z"
    }
   },
   "outputs": [
    {
     "data": {
      "text/plain": "{'b9b4e05faa194e5022edd9eb9dd07e3d675c2b36': {'title': [], 'abstract': [21, 38]},\n 'fc7c428f604d13604a1d62e8a3e1b393c730791a': {'title': [], 'abstract': [15]},\n '55f0b54f35949778487421325a1b6d0ba960b94b': {'title': [4], 'abstract': [6]},\n '4668306bc74576645c9cbe39a08f5f51a9bce4f4': {'title': [5], 'abstract': [45]},\n '8b9257f57d4aa43a5b1c7559a949e2cb7f9fd7de': {'title': [3], 'abstract': [42]},\n 'cd85a549add0c7c7def36aca29837efd24b24080': {'title': [3], 'abstract': [122]},\n '353d401a96939ff6c5836289077663a1f868ab19': {'title': [2], 'abstract': [10]},\n 'b163c8bc2963c5f1146ec168d11f1ca55d1e5e1d': {'title': [2], 'abstract': []},\n '55ca7a2d71f7b82313b3a67d1713caad92a83ecb': {'title': [], 'abstract': [41]},\n 'f3d3bed63fb51315e2726837363ab3c9e89769eb': {'title': [], 'abstract': [0, 86]},\n 'a60680940d5486534b22ba2515eb8ae19dedf4f1': {'title': [2], 'abstract': []},\n '82a99e0d626847fadb6be938f979a4aec573e9a1': {'title': [3], 'abstract': [0]},\n '804f87743641b18ae9a917a84e434e2313859fd3': {'title': [], 'abstract': [23]},\n '4fbe44946e0847ef82c86032840ad97b0521f40a': {'title': [0], 'abstract': []},\n 'e60ff004dde5c13ec53087872cfcdd12e85beb57': {'title': [1], 'abstract': [20, 22, 45, 55, 78, 98]},\n '4c20e7f95448ca3c1042a6d7fa5fa15ec27e9aeb': {'title': [4], 'abstract': []},\n 'a2e667e4382aaa8e02a17d0522c1a910790ab65b': {'title': [0], 'abstract': [24, 43, 101]},\n '20c7aaaef3588cf16ba83e92075c9832cf3b6ac6': {'title': [], 'abstract': [0]},\n '3f271912e46c926555a9078511ed681b58a5c27d': {'title': [0], 'abstract': [44, 84, 90]},\n '2f56d4ef0a9df1672699ecd787ffc9b3996026e2': {'title': [], 'abstract': [49]},\n '91e611c3e8705002438fb4439733e47ddec85b5d': {'title': [3], 'abstract': [1, 14, 48, 141]},\n '9a293c0602bd93d8f2b922912a8189c5c04df262': {'title': [6], 'abstract': []},\n 'b32fb949edae3966fde7bc854099a659610ff14f': {'title': [7], 'abstract': [73]},\n 'a78ecfffe36114f1ccf69341e9949a9c407d3ea1': {'title': [0], 'abstract': []},\n 'c4d652597e9996d238524d3ecee7762750667ea2': {'title': [3], 'abstract': [42, 72]},\n 'a0559ac561a6e816ee4294bf79797051281731ce': {'title': [], 'abstract': [57]},\n 'ac03e40cc705cbd9270d221eb23cf06460be579e': {'title': [0], 'abstract': []},\n '6718e83fe2443acf30a1a9ee7b9accb540c77c28': {'title': [7], 'abstract': []},\n 'eb42cf88027de515750f230b23b1a057dc782108': {'title': [1], 'abstract': [92]},\n 'ed74b9390eda908060fa3501b8f20a836ec98d63': {'title': [], 'abstract': [86, 126]},\n '51847659fff3a746f86a169ec8efa855b6286ca6': {'title': [1], 'abstract': [41, 153]},\n '3aa681914a7da79f7d7293f51a058eefe61c8bb7': {'title': [], 'abstract': [83]},\n 'cb6a82115777edee8d72feeb77427265b2a48e27': {'title': [4], 'abstract': [51, 59, 73]},\n 'befe794c29e0fe10d836789b358c65b049435692': {'title': [], 'abstract': [74]},\n 'f3dabf05a64e2bd5c40c5cccd518646af7da891f': {'title': [1], 'abstract': []},\n 'e6c4293a92d50889eb202e49f85ef94dbb5f8afd': {'title': [8, 13], 'abstract': [12]},\n '0cbc480e0d380bbaa04bfb21a396c9e8da6e930e': {'title': [5], 'abstract': [29, 40, 95]},\n 'ca1d0a2c8656cd013d411b24b7ee540821a938c1': {'title': [6], 'abstract': []},\n '883c5791a627d5bf679da1b5f871ff0d51792c6d': {'title': [], 'abstract': [19, 84, 105]},\n '779b489971775507fe6a39d98c52c4df56d9cce1': {'title': [1], 'abstract': []},\n '4db22f69d5047659dc5f9c96be0b86a110bd4562': {'title': [], 'abstract': [3]},\n '492f26ecdab6a1f6665da64f861b0aedfc656d76': {'title': [], 'abstract': [43]},\n '2bcdc2897724e3bddf31c0fd1b9fb7799c3e2777': {'title': [], 'abstract': [36]},\n 'dc9c58793b1589132d49b0087fe493ff8e5863b7': {'title': [9], 'abstract': [5]},\n '2a793b8434174806bcfc3a367ad205613516818a': {'title': [1], 'abstract': []},\n '33526226231cce669317ece44e6af262b8395dd9': {'title': [], 'abstract': [0]},\n '35ead69983132d6efd7548788c66f355a5a9f9ab': {'title': [3], 'abstract': []},\n '0a78085721f70d82c1284c124c3137bb7c2b34e7': {'title': [2], 'abstract': []},\n '55e0b7cae68a817d91756d02c7eb04a7079d7b5a': {'title': [], 'abstract': [0, 34]},\n 'afff02fa27bdeb0e2dc658d1ce43af6d3f407ff5': {'title': [1], 'abstract': [57, 61, 81]},\n 'bd36f1a9b111c535281c32ed600ddd6c4b71364e': {'title': [3], 'abstract': [44, 56, 100]},\n '0374f9e9541660a35881f0b09d5ee4c8eb5c921f': {'title': [5], 'abstract': []},\n 'a664f7256ffb3b81bf8532f94d6d70122f303a96': {'title': [0], 'abstract': [71, 87]},\n 'bb4a9650ca3946c70a7e92007cc61dc0dfd75522': {'title': [], 'abstract': [31]},\n 'a389216b359c706418bf6611ef63bb083c15e9cb': {'title': [], 'abstract': [77]},\n '922d93d253fc8c55f559586a328ae999ef749cdd': {'title': [8], 'abstract': []},\n '7afe3a449f0dd31ec08aa9748f94079684f899e6': {'title': [], 'abstract': [55, 88]},\n '1e58920c4235fdbfc22534c92938f22d1728f0b9': {'title': [], 'abstract': [37, 103]},\n 'a7c3bdca5b1c2ca860a4d24d0b35f86b056bb30d': {'title': [], 'abstract': [98]},\n '1ba07035f83792154e77ed35d842e04de8a1eeeb': {'title': [], 'abstract': [20, 28]},\n 'af24864ab4c654a44637098cb615c8b03f39b97f': {'title': [1], 'abstract': []},\n '261b15e8a013e07d6aaf80af930f4748ce35ca5f': {'title': [1], 'abstract': []},\n 'd29444b1873c206fba4ade481c33e9d80ecfb7c6': {'title': [0], 'abstract': [20]},\n '1a2b0383369172e08d91bc60fb70a9a988c317cc': {'title': [1], 'abstract': []},\n 'cc2defd5616b98eda74cb908d66498692753f164': {'title': [], 'abstract': [32]},\n '447499a1b18a71a914964f9bd782ac8cfbfcb739': {'title': [], 'abstract': [28]},\n '5fdb3533152f9862e3e4c2282cd5f1400af18956': {'title': [], 'abstract': [0]},\n '2aac28eedb11ab7a15d2b095b276547fa03db580': {'title': [], 'abstract': [60]},\n '02da8e322c2b6fb00a6be642c61426c68e34349d': {'title': [0], 'abstract': [65, 114]},\n 'b2d1008ec02fc29478737daef710ba4436b5aafa': {'title': [5], 'abstract': [11, 23, 35, 62, 80, 103, 131]},\n '5311c6e3e4a08bfec11a600888fa8537a9ee2e97': {'title': [0], 'abstract': [22, 46, 53]},\n 'c14e77fc10f133358903019f45132d694682ab88': {'title': [0], 'abstract': [8, 46]},\n '0f37b083cfd3d113f5c26dbb3620d246b9a40292': {'title': [7], 'abstract': []},\n '7db1e11805dc94b2c888625918f8ba810c4a7b33': {'title': [], 'abstract': [35]},\n '49e90a0110123d5644fb6840683e0a05d2f54371': {'title': [3], 'abstract': [56, 65]},\n '7b65f3e60065cff562f45c6c20f4e8a27949f18d': {'title': [0], 'abstract': []},\n '2e2b189f668cf2c06ebc44dc9b166648256cf457': {'title': [5], 'abstract': [1, 46]},\n '188452cb4bdfcf2b182c3eea6b2d3f15eb5ffa73': {'title': [], 'abstract': [19, 108]},\n '6c8a56ae495e5c8871061d1cd0f863d174f5e2ce': {'title': [], 'abstract': [17]},\n '2e535b8cd02c2f767670ba47a43ad449fa1faad7': {'title': [], 'abstract': [26, 28, 51, 82]},\n 'a52d53f84400b10aee8d235d70852bc68ca0d32b': {'title': [], 'abstract': [17, 133]},\n '2515d60eadc7c4d56e463b2dcff6dd7a6de68fe1': {'title': [6], 'abstract': []},\n '5411a036cb5757915f2268333b6caf91132867ad': {'title': [], 'abstract': [10]},\n 'f98dbe64ed6fa8925048291fcceb625d704fb294': {'title': [], 'abstract': [21]},\n 'f31ff4fbf1582c090ec1ac247add43f8ff37a839': {'title': [0], 'abstract': [51, 122]},\n '96f535751c4e6e4fe5f2cb00d186fedbad7efd71': {'title': [0], 'abstract': [95, 104]},\n 'b0204e6c7301281ec8460e5251cd7c3c83c40883': {'title': [], 'abstract': [30, 106]},\n 'b7f993243d20310fc7eca06dc1cf0ce3550feae9': {'title': [], 'abstract': [70]},\n 'b0bf93b1ef16ace689123b26ffc7b17ac9894582': {'title': [8], 'abstract': []},\n '0b26e182cde3c28d79119424660d05520428ec8d': {'title': [], 'abstract': [2]},\n 'fe0776a8ec8d0d1146f3c6d90d3f76d8e443f695': {'title': [5], 'abstract': []},\n '5eee61e47d55ed1ba90a00c91fcb3673d91e042f': {'title': [], 'abstract': [48]},\n '7d8d989194afb78158206b9803907e2c0bd228bb': {'title': [], 'abstract': [87]},\n 'd602137d38d4fad9e6db07d911fbf3551894d441': {'title': [0], 'abstract': [0]},\n '117ac7c5d42bfdbe83432672db05a2de08dae113': {'title': [], 'abstract': [1]},\n 'bf05819fa9366b3b67b0d86347b7b16fee88eb61': {'title': [], 'abstract': [1]},\n '79cc853e623ef1ae6bef9219b4d8900be7b5d917': {'title': [], 'abstract': [31, 99]},\n 'e036d15bbb4cc3176b07e2cbfe842165ee841a26': {'title': [], 'abstract': [0]},\n '1de7d838cfce1c3bef65b134bae3d00b59eddd71': {'title': [4], 'abstract': []},\n '2abde28f75a9135c8ed7c50ea16b7b9e49da0c09': {'title': [1], 'abstract': []},\n 'da26630c9d931952f1d68308148f1289f5332607': {'title': [9], 'abstract': [9]},\n '0695280cb4fdeb4eb8c0b01dd04a3a5f3bc6ef56': {'title': [3], 'abstract': [3, 36]},\n '60d55fcfa445184f6b2c711138899b7c2114a94e': {'title': [], 'abstract': [51]},\n '245eacda2e4cbac0b8157bc274d2417aec0da13c': {'title': [0], 'abstract': []},\n '1d3485be8a6ca0ce83f2c9e968547cfc24240ed3': {'title': [8], 'abstract': [10]},\n 'e10a130ac1404572b9cba1d636b34169799ecbcb': {'title': [], 'abstract': [50]},\n 'fc8f2264c67107fe3ae5c084d436075afe6486b8': {'title': [5], 'abstract': []},\n '284f596e438da346acec45b59d4c10850632ed66': {'title': [0], 'abstract': []},\n '335cce41a59ff311213da55dfcd116aefb97fdb8': {'title': [3], 'abstract': []},\n '527fc9235ebe59f415af8af1aba3db4325be1597': {'title': [0], 'abstract': []},\n '821f2cae0304cd3714ebd7ca31fa68d4029f1d3c': {'title': [], 'abstract': [32]},\n '763be1dffc2aec2637ebea505a7612bb6843521e': {'title': [], 'abstract': [1]},\n 'b4a4e6fe63426b9fb4393c939792da8e7c4a1a59': {'title': [], 'abstract': [72]},\n 'edacb19ef8c6ba532639b587904f67e648910f47': {'title': [5], 'abstract': []},\n '3e6c84302b2b56cf8369253d6168b852d0aa1fd6': {'title': [0], 'abstract': [123]},\n 'f86bbcff0d2cdcf52049373bf1b67b0d4b6d3e7e': {'title': [1], 'abstract': [12]},\n '360e574d95ea8d5e3938f756badd1d5993974159': {'title': [], 'abstract': [39]},\n '96c62b83c2dc54b22a126b53efb201fae61b3983': {'title': [2], 'abstract': [3]},\n '04625f7a0f84f0466f690d7b0bc672c7c90c193f': {'title': [], 'abstract': [28, 32]},\n '4c8f50cde3f2ce221e3c6d5171420b96c144df27': {'title': [], 'abstract': [4, 23]},\n 'bfe284e4338e62f0a61bb33398353efd687f206f': {'title': [], 'abstract': [32]},\n '8f1a8b82c7be223f195b4f03ffa1943391fd428b': {'title': [], 'abstract': [9, 28, 101]},\n 'e2c477de72bb7718f5304c6f38457fda9c8334b1': {'title': [0], 'abstract': [4]},\n 'e56b10f7cd4bf037beac84da5925dc4544fab974': {'title': [], 'abstract': [2]},\n 'ca120273f3cd35d565ef3d9afdcec80adef19d37': {'title': [1], 'abstract': [26, 84]},\n '4054f15b807dcdc4d2112166f449d70ab7b1a8da': {'title': [], 'abstract': [24, 95]},\n 'f215ce917c06fcfb21af5cc0283e008e6c391816': {'title': [], 'abstract': [80]},\n '1a442ec8ba0235c7180b29c39a507ee57841fd7b': {'title': [], 'abstract': [7]},\n '7ac13836ed80c668eff5ac12903a0cd5c237e27b': {'title': [1], 'abstract': []},\n '14b8737bd7870fc61346123fffc9755bce7254fd': {'title': [], 'abstract': [2]},\n '441ff323c92331e655ce9ff896773fc00b55089a': {'title': [3], 'abstract': []},\n '276f151c8e2eaf17541966c49c0aabc96db8f64d': {'title': [], 'abstract': [3]},\n 'f9c7fc60267d9541fa396e2ba63ad78a2dd995eb': {'title': [], 'abstract': [96]},\n 'a93aaf608f3bccb8174cd52ff32dcd9ffb25b423': {'title': [1], 'abstract': []},\n 'b2c1fb445d25de3a26482440cd4f977e2f1cde46': {'title': [3], 'abstract': [40, 57, 85]},\n '64b9be00f4eecd465b4e8e46e2ab7624d7eaeb2b': {'title': [], 'abstract': [31, 62, 108]},\n '5d7cf0d50d5fd373bafef6e3ab554936a54e3cda': {'title': [], 'abstract': [14]},\n '0276aecb97ffa1f7f279e2768abb3484933eacfb': {'title': [], 'abstract': [18]},\n '13111b3795bf32fc1ba508e6ea615031751b33ee': {'title': [], 'abstract': [71]},\n '367f2c63a6f6a10b3b64b8729d601e69337ee3cc': {'title': [], 'abstract': [0, 34, 95]},\n '531909281a0c92c738d9abfe7ad9a3630f9a2caf': {'title': [], 'abstract': [72]},\n 'c827842512a843ae3d27db554b954a4f782a633a': {'title': [], 'abstract': [15, 64, 93]},\n '713e881b5c3134debf934026edf6f0ba3cb42c3c': {'title': [], 'abstract': [51]},\n '0fc190033ec2832ed65dfac7a19bdb8a270fb6eb': {'title': [], 'abstract': [8]},\n 'b8c6fccfd7190cdca8647f5886716a4f56d9de4b': {'title': [], 'abstract': [0, 16, 30]},\n '8336e55d4b31a4ba6c3a128d46eb0289aab19789': {'title': [], 'abstract': [82]},\n 'a4040560bed2818f9e64293c462627858d99cf3e': {'title': [], 'abstract': [73]},\n '96baf66b1ead911d18b64ad674c9512e189c290b': {'title': [2], 'abstract': []},\n '40cec58d760940f62975e0d5e99632e28df0b5d0': {'title': [3], 'abstract': [18]},\n '1e8a5d2c359ead7ab2e55e1d492a7ed1e2808d0c': {'title': [0], 'abstract': [13, 60]},\n '3cf6300ea6f90876b14dc56242cf57ce0d36d8b5': {'title': [6], 'abstract': [51]},\n 'b5b7757491d8f60eb68e9b5f64190443cdcf55f8': {'title': [], 'abstract': [75]},\n '6b2062812d2e353ea884a0cc077e9f6c73351423': {'title': [], 'abstract': [0]},\n 'a1de21ce6dd0ff6327e6cf5f124cce8db197991f': {'title': [3], 'abstract': [70, 77, 106, 131]},\n '13c2abd38e3f9f5d3eeab177d43a1e0e1a6e64e8': {'title': [], 'abstract': [18]},\n 'e157466239e336a3146086a91da58a7938de977e': {'title': [7], 'abstract': []},\n '39c5740304b5f4072f92e4e012a4b57e7bc2e817': {'title': [], 'abstract': [11]},\n 'f6a80bfb5fb23fdd940f1bf36ada123248346ade': {'title': [], 'abstract': [80]},\n '46917e427a7aa1f4d415f8620c43ba4845efd435': {'title': [], 'abstract': [55]},\n '9cba6d03d13e18c0100ad9e7858eaa0ec2d18ee1': {'title': [], 'abstract': [0]},\n 'b9e98f630e8eaf77ddcd0f80d1360b611ae61e70': {'title': [0], 'abstract': [11]},\n '3d5a4ac2982fea9b2a675916639c9e892a89a628': {'title': [5], 'abstract': []},\n '0ea4076406bdef0225d095b45d20ee457a637eb9': {'title': [1], 'abstract': []},\n '1b0cbf49580883157dc2e674e64270b16656aed3': {'title': [], 'abstract': [0]},\n '3ab03674dfbb3762ccf3f842e840ad25ddb79be3': {'title': [2], 'abstract': [0]},\n 'bd25bbec1c321ab28846b04ee6d269e10e18f54b': {'title': [], 'abstract': [171]},\n 'c5adb029d021946dc4347277f8d43fe509cb96b0': {'title': [17], 'abstract': []},\n 'a2843523d5b96c380220ce1d6da133abeabcfe30': {'title': [], 'abstract': [68]},\n '3b0fb765716ef6861a84abffcbe40643857c613b': {'title': [], 'abstract': [2]},\n '255782ed38a221a43ddb5e8c63e8c77bf26382e7': {'title': [1], 'abstract': []},\n '5e159c0f1f56ebc51e8d44c18cf579a891ef1c5f': {'title': [1], 'abstract': [38, 65]},\n '81a4fd3004df0eb05d6c1cef96ad33d5407820df': {'title': [], 'abstract': [0, 59]},\n 'ab6d2e28f51012b1968b8b460624178d1cf47a5f': {'title': [4], 'abstract': [12, 35]},\n '8d3e9f744ee2514eac27d9288581ba4cab131f4a': {'title': [0], 'abstract': [76]},\n '498e003901f8287e89e5064477cd22dd47e49d61': {'title': [3], 'abstract': [3, 92]},\n '80be914311228dc3065f2f75f3de71459f3b1043': {'title': [0], 'abstract': [47]},\n '3060a4828f4fd0a89e934db5b74bfdef95141d80': {'title': [5], 'abstract': []},\n 'ccd8d46f4c5e59fba944385ad34ef96de950582f': {'title': [3], 'abstract': [23, 55, 65, 83]},\n '4a8cdb0175b37e13de8bc64cf32b9e784aa0808c': {'title': [], 'abstract': [20, 105]},\n '1e70d24649c5572b03ebbac45a784bf7698e56c7': {'title': [3], 'abstract': []},\n '6d4a87759917132913319960389f17fa1fe8b630': {'title': [], 'abstract': [4, 89]},\n '11b64286259c92cc82ef2ccc05c492f1a84ece82': {'title': [0], 'abstract': []},\n '59d8c68de09da69a608ceb149f40114f5538c5b1': {'title': [], 'abstract': [30]},\n '2c88c3d8bc68858e4c9ba58ec3d71454e94eb96e': {'title': [6], 'abstract': [46, 167, 192]},\n '832c0fb24669a7f7502510a70c4f3ddca42d45f9': {'title': [], 'abstract': [183]},\n '51ba3b33f445199d9f3cddb5b00c7e2927199b0c': {'title': [0], 'abstract': [1, 57]},\n 'a52a3aac68f4fd67b67ccf6839765403a101f681': {'title': [3], 'abstract': [6]},\n '0c2a4ee3e6b8cf1485fb1ffee00dd4f5a9fc4bef': {'title': [], 'abstract': [144]},\n '21117380118ddce47b3c515c5228372c513e61ba': {'title': [0], 'abstract': []},\n '6c96c2d4a3fbd572fef2d59cb856521ee1746789': {'title': [], 'abstract': [2, 32, 156, 166]},\n 'd5ce8f2c3c4be1fbae610a4b81eee85c41337150': {'title': [0], 'abstract': [42, 58, 67, 94]},\n 'ab096e819b0fcb82edea56b9d28fd5500c16906b': {'title': [0], 'abstract': []},\n '3937f1ad451462fbd9994c37ad22af841be9a3f8': {'title': [], 'abstract': [41, 59]},\n 'e3c7766bfb93a488218ff98d7420dc20cead969d': {'title': [], 'abstract': [3]},\n '2867f915f7419915909e60b3f9f8a29ada9f10d2': {'title': [5], 'abstract': [46]},\n 'e56320ed18e4fef4cbec9a35a1d5e7fe9c05b7fb': {'title': [], 'abstract': [14]},\n 'f3f1ea39c55e9c85a68fe50450cd7dfa6515e55c': {'title': [0], 'abstract': [56, 73]},\n 'f9ad25505d7b491b2d14d4178fbbe95ecc0c951f': {'title': [], 'abstract': [18]},\n '924385a663f9bc3a5f6979f72b43e069e06c263c': {'title': [2], 'abstract': [3, 33, 49, 56, 75]},\n '8d35663a80199b173d8cbd12dbf2300a9f86a021': {'title': [4], 'abstract': []},\n 'd5d571db338064b050044f936ff6914c79c5e4a0': {'title': [0], 'abstract': []},\n 'b6721d9173ad140c77cdf98a919bdb40baf42c0c': {'title': [], 'abstract': [64]},\n '7d8d6d30ce3bd383f947d6d88e22e00e809065f7': {'title': [2], 'abstract': []},\n '802168a81571dde28f5ddb94d84677bc007afa7b': {'title': [5], 'abstract': [0]},\n '01c0348a895d87aaad05b7705a62478f45b70449': {'title': [1], 'abstract': []},\n 'a22ee3256e28c7551d2fd7aedb965760457e8e6a': {'title': [], 'abstract': [21]},\n 'f3dc56a28ef71987f3999ba157f91cf351fb0a5b': {'title': [2], 'abstract': []},\n 'ef8ab2a0be51a0cd04c2c0f01adfae956a2a84af': {'title': [3], 'abstract': []},\n 'f44f5a877b34788afb3e0fc49c634faff69ab152': {'title': [], 'abstract': [77, 109]},\n '6d8052588c62e5bf2a073ae414867a78784ff663': {'title': [1], 'abstract': []},\n '3c6599052623542f6e21a2cc45a6fde4fb2dc374': {'title': [], 'abstract': [22]},\n '25e9fa483a048607131a5a0e3287e8f457fb4807': {'title': [], 'abstract': [0, 13]},\n '82b1b54e0b6134c4f072d2fee9692f3fd636dfa2': {'title': [], 'abstract': [33]},\n 'b71cbb8150760e1724a9c5dec78af4d0832e4236': {'title': [6], 'abstract': []},\n '505e72b8d60e987e89b93fdd98859b857ca94207': {'title': [0], 'abstract': []},\n 'f08c5a30f1f0c9d79861f7eb993bf89fa9ef1074': {'title': [1], 'abstract': []},\n 'af5e811897a5ab945d58624d576debd82e03fac3': {'title': [], 'abstract': [1]},\n '6705972cf9104d76fd7423dc414f3915f41ae783': {'title': [7], 'abstract': [130]},\n 'bbf052271c70dd926cd230bb5640cdcdfeccf1cc': {'title': [], 'abstract': [13]},\n '6bd36e9fd0ef20a3074e1430a6cc601e6d407fc3': {'title': [1], 'abstract': [99]},\n 'd05ff914131723b3287b91c169d579f13fd01209': {'title': [5], 'abstract': []},\n '74ec403743704c1d72b83c96d422996bcf232b1f': {'title': [], 'abstract': [33]},\n '901d678c367247e84b39a9ae5f913c5fbd958a0e': {'title': [1], 'abstract': []},\n '08d0ea90b53aba0008d25811268fe46562cfb38c': {'title': [3], 'abstract': [0, 116]},\n 'a469cb515cd9a2e1923a7a9b3b3fca3690881b19': {'title': [1], 'abstract': [66]},\n '28960bae9bbae36e25d1018ab7d6e8b258a903a0': {'title': [7], 'abstract': [26, 49, 84]},\n 'a11124688cdcee011043d7e4cdaf10332a533946': {'title': [], 'abstract': [15, 112]},\n '424561d8585ff8ebce7d5d07de8dbf7aae5e7270': {'title': [], 'abstract': [101]},\n 'f29df408f1407c60b0f85dd595a883de7c66e763': {'title': [5], 'abstract': [38]},\n '4f8bf7de1d0632ebc5e9d5a1da14c63ad3b7124f': {'title': [], 'abstract': [13, 64, 76, 127]},\n 'a06a8ca70096e567e5cf1e433cc99ac1d519c4d0': {'title': [], 'abstract': [18, 41, 53, 63, 96, 110, 134]},\n '5d68bbeb2d293cbda75994ca5040fd083665e82e': {'title': [1], 'abstract': [58, 72, 107]},\n '27eec716b3d5f2253ced3d6a30eaaa5558ae94d6': {'title': [], 'abstract': [104]},\n '5bdbadc741ce13762b7c914c1514124404c46211': {'title': [], 'abstract': [125]},\n '1cecbb9400b0d8b4342e6c25599b0e6a53a0ed41': {'title': [0], 'abstract': []},\n '5f58c4eef5728d53d124de6226c134d2e28d846c': {'title': [0], 'abstract': [5]},\n '939f575c8669331ce29f8ba4415dc2ddd06d5a5c': {'title': [1], 'abstract': []},\n '8275caf3674a37343fc6486ec354f0ebdf44cd99': {'title': [], 'abstract': [15, 25]},\n '08f2d3b5a393d9b7aa47a5edf81d6f8604688e07': {'title': [], 'abstract': [39]},\n '3ef82c1cf7af5988afd6ee19cd595556e0085a76': {'title': [], 'abstract': [8, 17, 36]},\n 'd939289250e4c635ae2d3e80834862d392473100': {'title': [5], 'abstract': []},\n '7dbc187624870198c9713483a3d225be22fb3fe8': {'title': [], 'abstract': [111]},\n '20f77d34ab1aec7d0a6e613a740aff7ec7fbf55a': {'title': [6], 'abstract': [38]},\n 'daf74c34f7da0695b154f645c8b78a7397a98f16': {'title': [1], 'abstract': [11, 35]},\n 'e38e70580acb204c05096de8da90b7ab1d4bdb6b': {'title': [], 'abstract': [24]},\n 'e503e08d63ee02fd83f549bdd9ddc8b58d5998df': {'title': [], 'abstract': [43]},\n 'd716435f0cb0cac56237f74b1ced940aabce6a2b': {'title': [], 'abstract': [12, 51, 81, 137]},\n '9702b3da2cca9b9f9ca53c0be1de09b644a9e34f': {'title': [6], 'abstract': []},\n '9fd8e5cb7958c1b005096e95ba15d0d92cdfbbaa': {'title': [], 'abstract': [15]},\n '6ff5533db1ae20f72f471b97965a8b67f05e62b6': {'title': [], 'abstract': [81, 114, 127]},\n '5c6199859eb8b4ebd4188c6587f6ad8e6448a983': {'title': [11], 'abstract': [27]},\n '602645d132457923c98794db8f6d4a042714620e': {'title': [], 'abstract': [1, 38]},\n '7e1b5de9e0a8767a3d4071ea1299358dc067f7e3': {'title': [], 'abstract': [127]},\n '24cf86a418c9471e8001961c87697c825f0bba8f': {'title': [], 'abstract': [9, 71]},\n '3e0cb50eb39ec30c9a791bf2fc4a7878d0a2478b': {'title': [], 'abstract': [88]},\n '930a3aabbaf3476807dd0fa0cd2830e371cb5b1c': {'title': [0], 'abstract': []},\n '56c6cc360cc60f20884851daa8943d16219fb5c2': {'title': [4], 'abstract': [80]},\n '36dc816c0313d1ed1be6ee5effebe08f92a41836': {'title': [0], 'abstract': []},\n 'b4d612f602817f4a7d1ea33d7b03253394cf5cb3': {'title': [1], 'abstract': [12, 87, 102, 118]},\n '625c3decc31a2c3d7ca9f5f84450f701798c28ac': {'title': [], 'abstract': [83]},\n 'd19701ccfb9170cc4b8b7856ba186ed3db7eb56d': {'title': [3], 'abstract': [99, 118]},\n '34ee498a8dab7d786ff8ae1b648cfcfdb12fcf16': {'title': [7], 'abstract': [65, 75]},\n 'f374d4bdf63fa1d2358a5559dbea32b576968d5c': {'title': [], 'abstract': [2]},\n '4ca058c44bc35930b2a3cef88018f49336392bd6': {'title': [1], 'abstract': [71, 86]},\n 'b0c065cd43aa7280e766b5dcbcc7e26abce59330': {'title': [1], 'abstract': [3]},\n '590d4a5e92d9f00621aec16fcb5df16d1912b4ec': {'title': [2], 'abstract': [3, 48, 88]},\n 'fd81880d09fa9997be8a0fccd5f1bf3fc4eb3fcb': {'title': [11], 'abstract': []},\n '2a48d2b673689e4434fc6b86965ca2a91bb40103': {'title': [], 'abstract': [9]},\n 'fef2135b3ae7b27ab28ddf41a943bd2ddc5d5113': {'title': [], 'abstract': [50]},\n 'eab422b69605e047597a743ebb657b2728ad7f8e': {'title': [6], 'abstract': [15]},\n '6c30e84311d6ed8a41908bd4ce0ebd7bcc08cc83': {'title': [], 'abstract': [51]},\n 'ddf52ceb8452344f4b93c87c0ec97834cbdd7230': {'title': [], 'abstract': [44, 63, 97, 252, 345, 358]},\n '42488e3a61d577e544e554b206a17e408f4cd765': {'title': [], 'abstract': [32]},\n '67c4528de75ae743d23a4eea5c03316a7a8cf9d1': {'title': [], 'abstract': [68]},\n 'ede7829b3f057a874c513919d19307e2b60ead23': {'title': [], 'abstract': [67]},\n '8381157eae4fbf8908d0312a9642f8e69e944449': {'title': [], 'abstract': [40, 52, 65]},\n '76b1768c4185b4b6e525e797be137964ffd46cd5': {'title': [], 'abstract': [28]},\n '4acde8d06cb9d7db0a793169d2bfe007fcd62301': {'title': [1], 'abstract': [46]},\n '2c03df8b48bf3fa39054345bafabfeff15bfd11d': {'title': [0], 'abstract': [107, 119]},\n '1a3c74c7b11ad5635570932577cdde2a3f7a6a5c': {'title': [1], 'abstract': [2, 20, 66, 123]},\n '88e8db0971a8390d4b197e44242e87c50ef3e1e1': {'title': [1], 'abstract': [26, 38, 73, 157]},\n '30b25894928fa69b748fe504e37ce3656ff5d71b': {'title': [], 'abstract': [136]},\n 'dd8ae7e8b72b0bbb11a4d9537a0f1b9f051b0793': {'title': [], 'abstract': [24, 96]},\n '1f83ce6b690b452d0b03ef6e4b43e96ff9ee6d2a': {'title': [1], 'abstract': []},\n '2faf72ee3ff950009a10020f720db336bf5e63a0': {'title': [], 'abstract': [1]},\n '98d2656eb36056a81462ad175656a8e8730bf13f': {'title': [8], 'abstract': []},\n '5e785ebb971ef0c908ac4e408206e82e76388cbf': {'title': [], 'abstract': [19]},\n 'aa14c359aada2ce633f794ddc40b584ece79ddf5': {'title': [12], 'abstract': []},\n 'ceee1196f166a41c3c6cbccd03a9e6b8a9bfa574': {'title': [4], 'abstract': [11, 56]},\n '25e3cad9f9f7191e5057975c9c2d3f2fda24ff96': {'title': [3], 'abstract': [9, 28]},\n 'ef2e936aa7b6615f5e7cdb642428da5defb57c07': {'title': [], 'abstract': [0, 12]},\n 'f508919ebbf44b250159e9c97f749610a5ae670a': {'title': [0], 'abstract': [30, 81, 87]},\n '28227bc2f709616b606e10f72748a03cfc47cdbd': {'title': [], 'abstract': [65]},\n 'f08f76b54c1b6ac1c760f0d9389e6eeb1ce8204a': {'title': [7], 'abstract': [29, 87]},\n '9a3855ac64358d95386cac5120929c88197e26dc': {'title': [], 'abstract': [126]},\n 'be12d320fdfa1319a8a8379b9e637ffbb6450f97': {'title': [], 'abstract': [89]},\n '17af9510a38e4dec93398707f11d833c8af36254': {'title': [], 'abstract': [6]},\n '77d30cf9a34fb6b50979c6a68863099da9a060ad': {'title': [], 'abstract': [67]},\n '7efb4f8ff9aa6f5e9691e9392b539298ef46ca04': {'title': [2], 'abstract': []},\n '9f25e139d99cac8957c758325bf77dad29d65073': {'title': [4], 'abstract': [8, 78]},\n 'a2b231bc08cf3d9ed66eb60e6e45a0d84e94c090': {'title': [2], 'abstract': [2, 36, 48]},\n 'bb51ca71833d42fa58f9adccb2296bdf665cc158': {'title': [8], 'abstract': [19]},\n '642d0f49b7826adcf986616f4af77e736229990f': {'title': [0, 3], 'abstract': [19]},\n 'aedbb2a8c27d1460345df0dcdfdc1f21e2225815': {'title': [1], 'abstract': [54]},\n '28293e2b07acccc222f5b0deca15105430759a92': {'title': [4], 'abstract': [28]},\n '4dfbc372c5e127abe7989e9c4ef75daac7370cd2': {'title': [6], 'abstract': []},\n '8edb469ef694e6259a97e88a53440338d3865ebc': {'title': [], 'abstract': [4, 87]},\n 'f9c16fca2662a82428a977e09db0ea02a74911da': {'title': [4], 'abstract': [38]},\n '742c3acf2dab95cabaca8bd8aa27dcc03863ac2b': {'title': [], 'abstract': [24]},\n '85a854a51833b16994f5af77a7419acb2bc78942': {'title': [], 'abstract': [42]},\n '5cd20c68a8c8554b89f762e0a5eac2bda03059c4': {'title': [], 'abstract': [0]},\n '29edf1f3bf744aa1a1b7bea3c1fb455bad8fc898': {'title': [], 'abstract': [5]},\n '8407167036a2795944138ac909e16adadec13668': {'title': [], 'abstract': [13]},\n '0c35fd52b312eb3881a08b04b67b4b25f473ab8e': {'title': [], 'abstract': [62]},\n '53b047e503f4c24602f376a774d653f7ed56c024': {'title': [], 'abstract': [4, 111]},\n '5a7033e9f2c459a9162e16d607297d88c60f5236': {'title': [6], 'abstract': [48, 53]},\n '9358d9e9afbc1eaf6b2f2042a8adc573556f566e': {'title': [2], 'abstract': [84]},\n '1167a9431e3743e16ab7e38bf60bdf63a278f7e9': {'title': [5], 'abstract': [25, 73, 97]},\n '64d4fcefa471fba93b910480c69f0127895b3512': {'title': [], 'abstract': [32]},\n '8d68eae4068fca5ae3e9660c2a87857c89d30f73': {'title': [], 'abstract': [0]},\n '4948596c4cb32a6ce1ce403a580c7fc4a51fe4f7': {'title': [0], 'abstract': []},\n '549cc49a43feaae4bc64da81e7299f0a78e6858b': {'title': [0], 'abstract': []},\n '82e597010ee1bede0b50f7ff8c6a249eba3a67a8': {'title': [], 'abstract': [2]},\n '6a51ddf8788de3002ec15ca7b30d2195c08c8929': {'title': [], 'abstract': [0, 23]},\n '89890e89a1ced045193fff89f005cd7cafa76d9c': {'title': [], 'abstract': [15]},\n '3dda2a28f8b7ddb89bfaa3bf1f1577d30afc7f2a': {'title': [3], 'abstract': [9]},\n 'b4919d8160d1c5b47f0ecbe30fa2237fecc7ba25': {'title': [3], 'abstract': [54, 77]},\n '1a9314776fbf9dd92649be5c2583b7ff92d79b56': {'title': [0], 'abstract': []},\n 'e44ef7be16ac01dfde6597b094bcbe4f81f771be': {'title': [], 'abstract': [35]},\n 'b4a94f4bd9842fbb72dc491665cbe70316aba431': {'title': [], 'abstract': [13, 68]},\n '796ca5c0c43614a94167fd48279bb9c6eaef49e6': {'title': [3], 'abstract': []},\n '028b15f4e4e6e12ab48385cd274cecaf887e80f5': {'title': [], 'abstract': [141]},\n '3a7f661d157cfb689bb35969e1a0fccccf8ba698': {'title': [7], 'abstract': [28, 106, 121]},\n '601106659dc89cb329e8a045ef6ef288fe37b0dd': {'title': [], 'abstract': [7, 113]},\n '7a0324f4a44047260ab3ebbd87a3f4744f1ea945': {'title': [], 'abstract': [5]},\n 'fef6f1e04fa64f2f26ac9f01cd143dd19e549790': {'title': [], 'abstract': [38]},\n '1b277f6e55e328c865c83518594fe3b5bd569205': {'title': [], 'abstract': [26, 42]},\n 'af3b7e1e2921aa68f6e00e07589c0d0f585e9f76': {'title': [4], 'abstract': []},\n 'b3ea79473e7438ae3d551f79a84207f8bd0e830d': {'title': [4], 'abstract': [39]},\n '6dc580ca568e8685854e4229881d74c69d57c8eb': {'title': [10], 'abstract': []},\n '27b6749039e79be9357356f3abe232dc645b6623': {'title': [], 'abstract': [93]},\n 'b051f7540ca1c2c5d1f8e6eb9ada449d2933ac45': {'title': [], 'abstract': [0]},\n '14a657db8a4e95e07379494828717027965022dc': {'title': [3], 'abstract': [91]},\n '6541eba27e35e43c009cf775df96b679eaf49692': {'title': [], 'abstract': [4]},\n '3fcbf108daffa73ccdead58ff7662d6f241339de': {'title': [3], 'abstract': []},\n 'd2e4587744a89bad95fea69e08842cad6c8ff0dd': {'title': [], 'abstract': [5]},\n '8df989b1640e841538f8a12cc973b565b0712757': {'title': [2], 'abstract': []},\n '877150193febd35691287324bb7c436fd8d75acf': {'title': [], 'abstract': [20]},\n 'b64a9491b5f64e68a5c48963feff50417510c799': {'title': [2], 'abstract': []},\n '13103b3bd4808ffd8dc46c6a77cec376eb401736': {'title': [], 'abstract': [29]},\n '20484b42bd462ef016de99ffa71f67c6c295ed8a': {'title': [8], 'abstract': []},\n '05a230ed244e2d262f54a2a8509dd5b7aabdeab2': {'title': [1], 'abstract': [78, 138]},\n '7494f7fd1cd30ca2a2753b69271ed75b3967cb70': {'title': [4], 'abstract': []},\n '1cae417456711c4da184f5efcd1b7464a7a0661a': {'title': [], 'abstract': [58]},\n 'd14ac2acf1b18e815385c631216eb4ee3a4fc842': {'title': [], 'abstract': [321, 326]},\n '469636449a996299e43176a6ecca36dcbbb9e669': {'title': [2], 'abstract': [30]},\n '9f32597531302a2a3404ee3c75d63f0fc8c05b50': {'title': [], 'abstract': [2, 46]},\n '1ac0ab5919725fb535b96a97fec42a027ddab54e': {'title': [4], 'abstract': []},\n 'a5e4f29ae6e418e8c4fe9456254311f6e642b8c9': {'title': [8], 'abstract': [20, 32]},\n '8cb34cbdcf65c23ef98430441b14a648c4e8d992': {'title': [4], 'abstract': [11]},\n 'cf0ae306a5b485fbf391b60d026f75e008115500': {'title': [], 'abstract': [10, 58]},\n 'e19b57563b52b29664ea6f47cb99191620ed1530': {'title': [], 'abstract': [99]},\n '06a4f5125ca5347f79aafea53f9bb05d1daa0a7e': {'title': [], 'abstract': [3]},\n '447afc6231eb05eb43040d1eedcc4ce8fb83dbdb': {'title': [0], 'abstract': []},\n '282b7ab87c9b503c1850cfddb22cd8d206406b11': {'title': [], 'abstract': [170]},\n '418d842e79c9df1844e38a1602e6bfc657e7cd51': {'title': [], 'abstract': [15]},\n 'e64f6ef3e16ed0ce08710fb9eb7198dc021ec8cf': {'title': [5], 'abstract': [40, 49]},\n '9cfe870e09f627e2814572aa4e1e7bff8b657fc5': {'title': [4], 'abstract': []},\n 'b360c69b87334c3ff37472a548a26db45fc8f3d4': {'title': [0], 'abstract': [0, 40]},\n '641febfe83546ba45e1131d95a5f84261f8a7156': {'title': [], 'abstract': [66]},\n 'f4966c81b9fe6476e8d418b75308b36f44865541': {'title': [], 'abstract': [52]},\n '3e2b056a68d174410c537437fecee45dcf6b71cb': {'title': [1], 'abstract': []},\n '6aff4621082f70b1bfa65feb62a07fd57a944637': {'title': [0], 'abstract': []},\n '898cbe37e30e81c92c501c4780bc5d8560f7560c': {'title': [], 'abstract': [9]},\n '59ee991e56a1894c2f50b2428ba92d4748e06a49': {'title': [0], 'abstract': []},\n '231af6ae64a0c6794f710f88dea1fdd4fd450776': {'title': [0], 'abstract': [110]},\n '334398a6d0f817de10ee8c64744c6bcf14debe22': {'title': [], 'abstract': [119]},\n '9f9cd21d2f896cc4d528ce81d01f1212807fb759': {'title': [3], 'abstract': [2]},\n 'a0a28ebafa06007bbef9473edd71b3a290a7010a': {'title': [], 'abstract': [19, 63]},\n 'f2296544c0e1ea7aabe3f996f4ac139f1ac3de65': {'title': [2], 'abstract': [38, 41, 48, 60, 64, 109, 130, 152, 165, 176, 207]},\n 'a3cbabdfb2e0ca39b77ad33b665ec2becc6937f6': {'title': [0], 'abstract': [12, 18, 159]},\n '7ea9f9a2fe19206c45ec5c78f9fc89c8bcea2a57': {'title': [1], 'abstract': [0]},\n 'f19284f6ab802c8a1fcde076fcb3fba195a71723': {'title': [3], 'abstract': [3]},\n 'a06ca7bb7f534460d386251f15100d21563332dc': {'title': [], 'abstract': [0]},\n '3f645e2615ad89edc544556e5a4e7dd887bd4413': {'title': [], 'abstract': [62]},\n '9cc8609f904c50b1be408abede7ab7f5cdbc9744': {'title': [3], 'abstract': [51, 129]},\n 'e8705ab4b9626c1ab6442483731fe0371f2234b6': {'title': [], 'abstract': [36]},\n 'c037ed4522210aa37fda97292cb8e1a86a0f3338': {'title': [], 'abstract': [81, 129, 158]},\n 'b5640d037603e53ac304beb2bb577166b8c111bc': {'title': [], 'abstract': [8]},\n '0918125daacb6c2b3a2d3f155ad095d5ae8fb9b9': {'title': [], 'abstract': [57]},\n '2db20cde973f30dd6c3fbf207c4500546ae73758': {'title': [], 'abstract': [115]},\n '85106fc0a68a575166f0f18456fa755b7a2660a3': {'title': [0], 'abstract': [38]},\n '0329d9be8ab1e3a1d5e4b9e7db5af5bbcc64e36f': {'title': [0], 'abstract': [24]},\n 'd56c9979027122544a5b5c7e2708304b900974f9': {'title': [1], 'abstract': [0, 29, 97]},\n '3cf5f512b30187efa088b9ee6c4e9d8fa7f937ce': {'title': [], 'abstract': [0, 33]},\n '01a17c97a093d5c2ed3ed435e3acdbe5ecd9c8b7': {'title': [1], 'abstract': [0]},\n '235e215e2abf256f1b3c6b501f03a86ed6c354a9': {'title': [6], 'abstract': [50, 61, 73]},\n '81f0e648e4776dcbe933bda553f6ac4e5b31876e': {'title': [], 'abstract': [0]},\n '632841ebaf485cd55e225ce8fb7e03fae6dedd3a': {'title': [], 'abstract': [0, 35, 119]},\n '17eb3834afebb8100a5b07467e73c38cd4baff48': {'title': [], 'abstract': [12, 26]},\n '864e033c002c5ec48d4c273c53ce995682fc3e21': {'title': [0], 'abstract': [2]},\n '907080efc9f5bae9cc7079670f993d60c90b1820': {'title': [], 'abstract': [74, 77]},\n 'ab95d333d1f60b7546bbbdf8cb0ed816164430db': {'title': [], 'abstract': [5]},\n '4c67562906386ee9a876fae37fa82e0348db9e2c': {'title': [0], 'abstract': [29, 56, 70, 93]},\n '338c55f43bc6bce1174a766b9f6bd2fec4cf6c5e': {'title': [], 'abstract': [12]},\n '0c555ef3e1d5dee7fd9c7a4e25da678710c4304d': {'title': [2], 'abstract': [55]},\n 'e1026f240d59a80493de8f55521aa32f1d9b04d1': {'title': [5], 'abstract': [36, 100]},\n '37595f7a51982d776e57c7280b9445474d90f0be': {'title': [5], 'abstract': [46, 73]},\n 'c1aec79da632035a8a3a077b75323aed24d89ef8': {'title': [8], 'abstract': []},\n '980621fee9b902815c1de19ed726080b609594cf': {'title': [], 'abstract': [15, 82]},\n 'df70949731ba70b417a5de721e4d40775b2a56ba': {'title': [0], 'abstract': []},\n 'd7bb32e9475cc5d277cb58907404f7dbc24270a7': {'title': [5], 'abstract': []},\n '845e6824681a937328f628cb4028ae1bf3d63630': {'title': [0], 'abstract': [3, 39, 98]},\n 'f6e0856b4a9199fa968ac00da612a9407b5cb85c': {'title': [3], 'abstract': []},\n 'f4fea83e3c9a849fb6bd4ea039f6feacfb0c3d49': {'title': [], 'abstract': [6]},\n '6088a5af7198e763f9d6a9a5e78f45302228a3ff': {'title': [1], 'abstract': [1, 72]},\n '760ab37ab4d5a68b53035208d2e179494d879322': {'title': [], 'abstract': [35, 50]},\n '0ca95a34c0a59132e7f0925b189de884e51a93a6': {'title': [6], 'abstract': [31, 48]},\n 'b99e54eb2d0556b8a74fd8d904bf6fd7db80a67b': {'title': [1], 'abstract': []},\n 'e0f73e991514450bb0f14f799878d84adc8601f9': {'title': [1], 'abstract': []},\n '743bbb51865843ff0bd5d598bb06b1bef3de5da4': {'title': [], 'abstract': [6]},\n 'e078ee00ad8e83a455e4b3f392179ea9b545099e': {'title': [0], 'abstract': [48, 69, 103]},\n 'e1e256d899fadcdafc8aff873e6e8084f8133051': {'title': [3], 'abstract': []},\n 'c112084e0b3e18de82cd1e188b97c8a5997c3e65': {'title': [7], 'abstract': [1, 106]},\n '1c827db71b9399383684e1253222b90a9f9db734': {'title': [0], 'abstract': []},\n 'a39357450cab9b524048eda9f3593144cd0b3d5f': {'title': [], 'abstract': [50]},\n 'd12f8a7e5b38b32257e9c7173abc6ca0860b87c7': {'title': [0], 'abstract': [3, 17]},\n '1c7d41daf8d509dcd036060c877ee8013c13044b': {'title': [], 'abstract': [1]},\n '020bb2ba5f3923858cd6882ba5c5a44ea8041ab6': {'title': [], 'abstract': [40]},\n '9b5b3e0d84380f39fde7eedd1a52bdccc959f031': {'title': [7], 'abstract': []},\n '5ff28f5044211577799d1383fbcc5f3e93ea56a3': {'title': [2], 'abstract': [0, 25, 37, 51, 58, 68, 88, 98, 106]},\n '40443efff872c38346993f222d54dda0d44cbb47': {'title': [7], 'abstract': []},\n '84599e152d96b9c33cd216339e8d2a600111a660': {'title': [], 'abstract': [97]},\n '512ba6e96840ff5f33525534c515546dd007370e': {'title': [], 'abstract': [3]},\n '137ffab2db25084e8fb31e4f537711356791b509': {'title': [8], 'abstract': [3, 20]},\n '1e80f755bcbf10479afd2338cec05211fdbd325c': {'title': [1], 'abstract': [10, 24]},\n 'aa29749fb3034ba3fab8874e132a034a9b0f6e55': {'title': [0], 'abstract': []},\n '1770450f74ac68af89b7dee0c2ab1ce12f43ed02': {'title': [5], 'abstract': []},\n '6ce6768a34e197e4ef76933c8e6760b6e4833dc4': {'title': [3], 'abstract': [12]},\n '05fd1da7b2e34f86ec7f010bef068717ae964332': {'title': [3], 'abstract': [0, 25, 58, 143]},\n '147f1408e235bf5d1410474505ed773494e3ab01': {'title': [1], 'abstract': [7, 28, 54, 66, 100]},\n 'd2b62f77cb2864e465aa60bca6c26bb1d2f84963': {'title': [2], 'abstract': [24]},\n 'e15cf50aa89fee8535703b9f9512fca5bfc43327': {'title': [], 'abstract': [1, 70]},\n '54c6416eae67bce7b3f058601e0c758e39f33a62': {'title': [3], 'abstract': [22]},\n '7cfa5c97164129ce3630511f639040d28db1d4b7': {'title': [], 'abstract': [43]},\n 'cab372bc3824780cce20d9dd1c22d4df39ed081a': {'title': [3], 'abstract': [5, 45]},\n '7c1e5810f889a1cfbcb2e0a0883761a6d5e76f9a': {'title': [], 'abstract': [127]},\n '47966b673a145dfba9880c207ab4e21d692ab563': {'title': [], 'abstract': [3, 62, 106]},\n '24d5152ba816d974789a159c804141befcc2f3d5': {'title': [1], 'abstract': []},\n '74261ae216e457a2d2635d06f0425db4a4ce1b1f': {'title': [6], 'abstract': []},\n 'd04cf73d35b94f8404d4086b41a85fbe70c8cf0f': {'title': [0], 'abstract': []},\n '41eaa127a82fe94fc31d06c6f8dfeaa5e0d4cb9d': {'title': [], 'abstract': [26]},\n 'ed2a99a4982328462e34c944efbb33a65e6d823c': {'title': [], 'abstract': [32]},\n '250ac5f01aa125bd2a3188d183c68eca185f2054': {'title': [0], 'abstract': []},\n 'dd3c8428b0b8f41e48ad9632c4acf63e9bbd2a4a': {'title': [], 'abstract': [38, 56, 89]},\n 'b8375ff50b8a6f1a10dd809129a18df96888ac8b': {'title': [], 'abstract': [1]},\n 'bf599a6863c524dda9a1b6dbc5ecbb2e31e556a4': {'title': [7], 'abstract': [92]},\n '791b65c65f8ae7e16c1ee9203cdc3ee59ffeb99f': {'title': [4], 'abstract': [39]},\n 'da2af21706fabe977bdd12d8b449d8d3a04fb7fb': {'title': [], 'abstract': [0, 40]},\n 'b143bde4c6db2e6cc7eac580fbf1a2ff756dbe10': {'title': [], 'abstract': [84]},\n 'a1585ce06007b95185a47929fa9e8bd0048af747': {'title': [5], 'abstract': [3, 7, 39, 54, 60]},\n '8414bcdd8de21e8f76c0191dc9e41808772b16d7': {'title': [0], 'abstract': []},\n 'be2e44f4f455db958e41a5dcd80dfe302597dd66': {'title': [9], 'abstract': [9, 21, 116, 131, 163]},\n '94a96f64bd93ad91642fa04da09bb709a26ac277': {'title': [], 'abstract': [9]},\n 'd6fff78f45db5e8a6246d256d58a047c7647059f': {'title': [1], 'abstract': [4]},\n 'd65eb30e5f0d2013fd5e4f45d1413bc2969ee803': {'title': [5], 'abstract': [0]},\n '454a7f56b6b3cb870913d19ad9a6f862aa7ea8b0': {'title': [], 'abstract': [16]},\n '3944c123f87d3609370711168edb6348e5e359ae': {'title': [4], 'abstract': []},\n 'df0402517a7338ae28bc54acaac400de6b456a46': {'title': [], 'abstract': [3]},\n 'aab0ae5560545489faa54d7942cdae851d30fdf4': {'title': [1], 'abstract': [114]},\n '20c53d638c4a408de715772be2506a5a30b89084': {'title': [], 'abstract': [58]},\n 'df18e1bebedd8fe9c4a090024f85867d9f39b185': {'title': [8], 'abstract': [3, 18, 60]},\n '70cc24881732c04bd74437660bda970ac299562a': {'title': [], 'abstract': [61]},\n 'aca9fdb07b2f4970528bcb63b4bc6e6cdf948a99': {'title': [], 'abstract': [58]},\n '0389b91df44cab0bc0f11dadcb29b296653dde0c': {'title': [0], 'abstract': [95, 107]},\n '17e9a972dbce908dc1d4e35a6ae9e8737f6eab44': {'title': [1], 'abstract': []},\n '00acfa59f37ded6531917b4746d5a19306547ba8': {'title': [], 'abstract': [2]},\n '93780d6c0e0d537bca3f24245618033ecb7ff4e3': {'title': [], 'abstract': [8]},\n 'aaeb0b43287d80568e5b8db4da2fce8d1ba033bf': {'title': [3], 'abstract': [53]},\n '4fdefd6ca91e7fa80873e51f029f596b07eda70c': {'title': [], 'abstract': [42, 78]},\n 'a0c36c58d3211635ff50ac161ff43d249ea2f115': {'title': [4], 'abstract': []},\n '834d1723455e3f70040c407d80c5dd6ba7794021': {'title': [], 'abstract': [24]},\n 'f370bfea290f84005873849c080852bf0e132af8': {'title': [], 'abstract': [4]},\n '5b48a06ac2d2d778c09acbcae70ba6fab7f65fe8': {'title': [], 'abstract': [65]},\n '0b87a873e89319ffff55d967f4c26e2e7b4dd595': {'title': [], 'abstract': [28]},\n 'ed24940637b0b6f520f9cc18c8fb92b85ce2cebb': {'title': [6], 'abstract': []},\n '7d21a1ba26119b264e04392a2314de8375b48ee9': {'title': [3], 'abstract': []},\n '8deaa7ded506c00b5e0ee37df7ba3a73817b79cb': {'title': [1], 'abstract': []},\n '4af81b39570063c4e2b9832171ef61369e4d8b30': {'title': [], 'abstract': [53]},\n '081651b38ff7533550a3adfc1c00da333a8fe86c': {'title': [3], 'abstract': [1, 62]},\n '9064e84262241d50b1c6963c306cb8ebdc594a1b': {'title': [4], 'abstract': []},\n '75117523048883a98dbd4924d7a1953d7bd79ec9': {'title': [], 'abstract': [67, 141, 196]},\n '1c5d30301720db9981b79df6b0968f6615d290a1': {'title': [], 'abstract': [35, 50]},\n '58cee926e5d7b594d9973638c76b7c1639562c17': {'title': [1], 'abstract': [4]},\n '329a7e9bcde85bfe11e90895aca2e905fd9228f5': {'title': [0], 'abstract': []}}"
     },
     "execution_count": 9,
     "metadata": {},
     "output_type": "execute_result"
    }
   ],
   "source": [
    "print('Start viewing ...')\n",
    "\n",
    "## 1 points\n",
    "\n",
    "def get_posting_list(word: str):\n",
    "    \n",
    "    \"\"\" get posting_list of a word\n",
    "    \n",
    "        Parameters\n",
    "        ----------\n",
    "        word: str\n",
    "             word we want to check\n",
    "\n",
    "        Return\n",
    "        ----------\n",
    "        dict \n",
    "            posting list\n",
    "\n",
    "    \"\"\"\n",
    "    word = clean_data(word, should_tokenized=False)[0]\n",
    "    return docs.get_posting_list(word)\n",
    "\n",
    "# get_posting_list('Deep')"
   ]
  },
  {
   "cell_type": "markdown",
   "metadata": {},
   "source": [
    "<div dir=\"rtl\">\n",
    "<font face=\"XB Zar\" size=4>\n",
    "    <h1>\n",
    "    <b>پویا‌سازی نمایه (۷ + ۷ نمره)</b>\n",
    "    </h1>\n",
    "</font>\n",
    "<font face=\"XB Zar\" size=3>\n",
    "    برای پویا سازی نمایه ایجاد شده باید قابلیت حذف و اضافه تک داکیومنت اضافه شود .<br>\n",
    "    برای اضافه شدن داکیومنت، به تابع ()add_documnet یک سه‌تایی داده می‌شود که اطلاعات مربوط به داکیومنت شامل شناسه، عنوان و چکیده در آن به ترتیب قرار دارد. در صورت نبود آن سند در نمایه‌ها، به نمایه‌ها اضافه می‌شود.<br>\n",
    "     برای حذف داکیومنت نیز شناسه آن به تابع ()remove_document داده می‌شود.<br>\n",
    "    تضمین می‌شود که شرط یکتا بودن شناسه داکیومنت‌ها نقض نشود. برای مثال دو داکیومنت با شناسه یکسان به مجموعه اضافه نخواهد شد. البته ممکن است حذف شده و دوباره اضافه شود.\n",
    "</font>\n",
    "</div>"
   ]
  },
  {
   "cell_type": "code",
   "execution_count": 10,
   "metadata": {
    "ExecuteTime": {
     "start_time": "2023-04-12T04:59:25.395925Z",
     "end_time": "2023-04-12T04:59:25.407276Z"
    }
   },
   "outputs": [],
   "source": [
    "print('Start dynamic indexing ...')\n",
    "\n",
    "## 7 points\n",
    "\n",
    "def add_documnet(document : tuple):\n",
    "    global clean_df, iterated_columns\n",
    "    \"\"\"Adds a document to positional index\n",
    "\n",
    "    Parameters\n",
    "    ----------\n",
    "    document : str\n",
    "        Comma separated string containing id,title,abstarct in this exact order\n",
    "    \"\"\"\n",
    "\n",
    "    doc_id = document[0]\n",
    "\n",
    "    title = document[iterated_columns[0]]\n",
    "    clean_title = clean_data(title)\n",
    "    remove_stop_words(clean_title)\n",
    "\n",
    "    abstract = document[iterated_columns[1]]\n",
    "    clean_abstract = clean_data(abstract)\n",
    "    remove_stop_words(clean_abstract)\n",
    "    document_df = pd.DataFrame([[doc_id, clean_title, clean_abstract]], columns=clean_df.columns.values[0:3])\n",
    "    clean_df = pd.concat([clean_df, document_df], ignore_index=True)\n",
    "\n",
    "    for column_index in iterated_columns:\n",
    "        column_name = clean_df.columns[column_index]\n",
    "        current_cell = document_df.iloc[0, column_index]\n",
    "\n",
    "        for position, word in enumerate(current_cell):\n",
    "            docs.insert(word, doc_id, column_name, position)\n",
    "\n",
    "\n",
    "new_document = (\"1eae26fe1ca566f17468080c3aecab1c3f9efb66\", \n",
    "                \"A Deep Learning Framework for Viable Tumor Burden Estimation\", \n",
    "                \"Liver masses have become a common clinical challenge since they require to be defined and accurately categorized as neoplastic or nonneoplastic lesions. Hepatocellular carcinoma (HCC), the most common histologic type of primary liver malignancy, is a global health concern being the fifth most common cancer and the second cause of cancer mortality worldwide. Accurate diagnosis, which in some circumstances requires histopathology results, is necessary for appropriate management. Also, some tumor characteristics help in predicting tumor behavior and patient response to therapy. In this paper, we propose a deep learning framework for the segmentation of whole and viable tumor areas of liver cancer from whole-slide images (WSIs). To this end, we use Fast Segmentation Convolutional Neural Network (Fast-SCNN) as our network. We use the dataset from PAIP 2019 challenge. After data-augmentation on the training subset, we train the network with a multi-term loss function and SWA technique. Our model achieves 0.80 for the median of the Jaccard Index for the task of Viable Tumor Segmentation and 0.77 for the median of Weighted Absolute Accuracy for the task of Viable Tumor Burden Estimation on the whole-slide images of the test subset.\")\n",
    "# add_documnet(new_document)"
   ]
  },
  {
   "cell_type": "code",
   "execution_count": 11,
   "metadata": {
    "ExecuteTime": {
     "start_time": "2023-04-12T04:59:25.410998Z",
     "end_time": "2023-04-12T04:59:25.463553Z"
    }
   },
   "outputs": [
    {
     "name": "stdout",
     "output_type": "stream",
     "text": [
      "Before removing:\n",
      "                                       paperId  \\\n",
      "6183  1eae26fe1ca566f17468080c3aecab1c3f9efb66   \n",
      "\n",
      "                                                  title  \\\n",
      "6183  [deep, learn, framework, viabl, tumor, burden,...   \n",
      "\n",
      "                                               abstract Unnamed: 3 Unnamed: 4  \n",
      "6183  [liver, mass, have, becom, common, clinic, cha...        NaN        NaN  \n",
      "\n",
      "After removing:\n",
      "Empty DataFrame\n",
      "Columns: [paperId, title, abstract, Unnamed: 3, Unnamed: 4]\n",
      "Index: []\n"
     ]
    }
   ],
   "source": [
    "## 7 points\n",
    "\n",
    "def remove_document(document_id: str):\n",
    "    global clean_df, iterated_columns\n",
    "    \"\"\"removes a document from positional index\n",
    "\n",
    "    Parameters\n",
    "    ----------\n",
    "    document_id : str\n",
    "        Id of the document\n",
    "    \"\"\"\n",
    "\n",
    "    id_column = clean_df.columns[0]\n",
    "    document = clean_df.loc[clean_df[id_column] == document_id]\n",
    "    if document.empty:\n",
    "        return\n",
    "\n",
    "    clean_df = clean_df.drop(document.index)\n",
    "    for column_index in iterated_columns:\n",
    "        column_name = clean_df.columns[column_index]\n",
    "        current_cell = document.iloc[0, column_index]\n",
    "\n",
    "        for position, word in enumerate(current_cell):\n",
    "            docs.remove(word, document_id, column_name, position)\n",
    "\n",
    "id = '1eae26fe1ca566f17468080c3aecab1c3f9efb66'\n",
    "# print('Before removing:')\n",
    "print(get_document_by_id(id), end='\\n\\n')\n",
    "# remove_document(id)\n",
    "# print('After removing:')\n",
    "# print(get_document_by_id(id))"
   ]
  },
  {
   "cell_type": "markdown",
   "metadata": {},
   "source": [
    "<div dir=\"rtl\">\n",
    "<font face=\"XB Zar\" size=4>\n",
    "    <h1>\n",
    "    <b>ذخیره و فشرده‌سازی نمایه (۱۳ + ۷\n",
    "     نمره)</b>\n",
    "    </h1>\n",
    "</font>\n",
    "<font face=\"XB Zar\" size=3>\n",
    "    در این بخش باید توانایی ذخیره کردن نمایه و بارگذاری مجدد آن را به سامانه اضافه کنید.<br>\n",
    "    ذخیره‌سازی به ۳ روش صورت می‌گیرد.<br>\n",
    "     <ul>\n",
    "    <li>no-compression</li>\n",
    "    <li>gamma-code</li>\n",
    "    <li>variable-byte</li>\n",
    "    </ul> \n",
    "      روش‌های فشرده‌سازی باید توسط خودتان پیاده‌سازی شود.\n",
    "    برای ذخیره نمایه در فایل نیز از JSON  یا TXT استفاده کنید. \n",
    "    نام فایل خود را نوع فشرده‌سازی بگذارید و در یک فایل زیپ قرار دهید و آیلود کنید.\n",
    "    <br>\n",
    "     بخشی از نمره شما در این قسمت به میزان فشرده‌سازی نمایه اختصاص داده شده است. بنابراین پیاده‌سازی بهینه روش‌های فشرده‌سازی مهم است.<br>\n",
    "     تابع load_index برای بارگذاری نمایه است با گرفتن مسیر فایل ذخیره شده نمایه با نام path نمایه را از این فایل بارگذاری می‌کند.\n",
    "</font>\n",
    "</div>"
   ]
  },
  {
   "cell_type": "code",
   "execution_count": 12,
   "outputs": [],
   "source": [
    "print('Start compressing index ...')\n",
    "\n",
    "path = 'index/'\n",
    "NO_COMPRESSION = 'no-compression'\n",
    "GAMMA_CODE = 'gamma-code'\n",
    "VARIABLE_BYTE = 'variable-byte'\n",
    "GENERAL = 'general'\n",
    "FILE_TYPE = '.json'"
   ],
   "metadata": {
    "collapsed": false,
    "ExecuteTime": {
     "start_time": "2023-04-12T04:59:25.425026Z",
     "end_time": "2023-04-12T04:59:25.463973Z"
    }
   }
  },
  {
   "cell_type": "code",
   "execution_count": 13,
   "outputs": [],
   "source": [
    "def store_docs():\n",
    "    global clean_df\n",
    "    int_map_doc = {}\n",
    "\n",
    "    for index, row in clean_df.iterrows():\n",
    "        int_map_doc[index] = copy.deepcopy(row[0])\n",
    "\n",
    "    return int_map_doc\n",
    "\n",
    "int_map_doc = store_docs()\n",
    "doc_map_int = {v: k for k, v in int_map_doc.items()}"
   ],
   "metadata": {
    "collapsed": false,
    "ExecuteTime": {
     "start_time": "2023-04-12T04:59:25.428194Z",
     "end_time": "2023-04-12T04:59:25.644255Z"
    }
   }
  },
  {
   "cell_type": "code",
   "execution_count": 14,
   "metadata": {
    "ExecuteTime": {
     "start_time": "2023-04-12T04:59:25.660087Z",
     "end_time": "2023-04-12T05:00:31.708895Z"
    }
   },
   "outputs": [
    {
     "name": "stdout",
     "output_type": "stream",
     "text": [
      "Deep copying docs for general ...\n",
      "Deep copying docs done\n"
     ]
    },
    {
     "name": "stderr",
     "output_type": "stream",
     "text": [
      "Compressed words with general compression: 100%|██████████| 35993/35993 [00:00<00:00, 49833.99it/s]\n"
     ]
    },
    {
     "name": "stdout",
     "output_type": "stream",
     "text": [
      "Deep copying docs for gamma-code ...\n",
      "Deep copying docs done\n"
     ]
    },
    {
     "name": "stderr",
     "output_type": "stream",
     "text": [
      "Compressed words with gamma-code: 100%|██████████| 35993/35993 [00:01<00:00, 28028.31it/s]\n"
     ]
    },
    {
     "name": "stdout",
     "output_type": "stream",
     "text": [
      "Deep copying docs for gamma-code ...\n",
      "Deep copying docs done\n"
     ]
    },
    {
     "name": "stderr",
     "output_type": "stream",
     "text": [
      "Compressed words with gamma-code: 100%|██████████| 35993/35993 [00:01<00:00, 29370.24it/s]\n"
     ]
    },
    {
     "name": "stdout",
     "output_type": "stream",
     "text": [
      "Deep copying docs for general ...\n",
      "Deep copying docs done\n"
     ]
    },
    {
     "name": "stderr",
     "output_type": "stream",
     "text": [
      "Compressed words with general compression: 100%|██████████| 35993/35993 [00:00<00:00, 49816.60it/s]\n"
     ]
    },
    {
     "name": "stdout",
     "output_type": "stream",
     "text": [
      "Deep copying docs for variable-byte ...\n",
      "Deep copying docs done\n"
     ]
    },
    {
     "name": "stderr",
     "output_type": "stream",
     "text": [
      "Compressed words with variable-byte: 100%|██████████| 35993/35993 [00:01<00:00, 24487.58it/s]\n"
     ]
    },
    {
     "name": "stdout",
     "output_type": "stream",
     "text": [
      "Deep copying docs for variable-byte ...\n",
      "Deep copying docs done\n"
     ]
    },
    {
     "name": "stderr",
     "output_type": "stream",
     "text": [
      "Compressed words with variable-byte: 100%|██████████| 35993/35993 [00:01<00:00, 25287.33it/s]\n"
     ]
    }
   ],
   "source": [
    "## 13 points\n",
    "# link of files\n",
    "# https://www.icloud.com/iclouddrive/075XUb_kVrWeR1Q4A7ROyZclg#index\n",
    "\n",
    "def store_index(path: str, compression_type: str, is_compress_general=False):\n",
    "    global docs\n",
    "    \"\"\"Stores the index in a file\n",
    "\n",
    "    Parameters\n",
    "    ----------\n",
    "    path : str\n",
    "        Path to store the file\n",
    "\n",
    "    compression_type : str\n",
    "        Could be one of the followings:\n",
    "        - no-compression\n",
    "        - gamma-code\n",
    "        - variable-byte\n",
    "\n",
    "    Returns\n",
    "    int\n",
    "        The size of the stored file\n",
    "    \"\"\"\n",
    "\n",
    "    # https://www.tutorialspoint.com/How-can-I-create-a-directory-if-it-does-not-exist-using-Python\n",
    "    Path(path).mkdir(parents=True, exist_ok=True)\n",
    "\n",
    "    complete_path = path + compression_type + FILE_TYPE\n",
    "    with open(complete_path, 'w+') as file:\n",
    "        if (compression_type == NO_COMPRESSION):\n",
    "            save(docs, file)\n",
    "        else:\n",
    "            if is_compress_general:\n",
    "                general_docs = compress_general(docs)\n",
    "                save(general_docs, open(path + GENERAL + FILE_TYPE, 'w+'))\n",
    "                file = open(path + compression_type + ' with ' +  GENERAL + FILE_TYPE, 'w+')\n",
    "\n",
    "            doc_to_pass = general_docs if is_compress_general else docs\n",
    "            if (compression_type == GAMMA_CODE):\n",
    "                gamma_docs = compress_code(doc_to_pass, compression_type, gamma_code)\n",
    "                save(gamma_docs, file)\n",
    "            elif (compression_type == VARIABLE_BYTE):\n",
    "                variable_byte_docs = compress_code(doc_to_pass, compression_type, variable_byte)\n",
    "                save(variable_byte_docs, file)\n",
    "\n",
    "\n",
    "\n",
    "        file.close()\n",
    "\n",
    "def save(docs, file):\n",
    "    json.dump(docs.toJSON(), file)\n",
    "\n",
    "def compress_general(docs):\n",
    "    print('Deep copying docs for general ...')\n",
    "    general_docs = copy.deepcopy(docs)\n",
    "    print('Deep copying docs done')\n",
    "\n",
    "    all_words = general_docs.get_all_words()\n",
    "    pbar = tqdm(all_words, desc='Compressed words with general compression')\n",
    "    for word in pbar:\n",
    "        posting = general_docs.get_posting_list(word)\n",
    "        replace_doc_id_with_int(posting)\n",
    "\n",
    "        for doc_posting in posting.values():\n",
    "            fields = list(doc_posting.keys())\n",
    "            for field in fields:\n",
    "                doc_posting[field[0]] = doc_posting[field]\n",
    "                del doc_posting[field]\n",
    "\n",
    "    return general_docs\n",
    "\n",
    "def compress_code(docs, compression_type, function):\n",
    "    print(f'Deep copying docs for {compression_type} ...')\n",
    "    compress_docs = copy.deepcopy(docs)\n",
    "    print('Deep copying docs done')\n",
    "\n",
    "    all_words = compress_docs.get_all_words()\n",
    "    pbar = tqdm(all_words, desc=f'Compressed words with {compression_type}')\n",
    "    for word in pbar:\n",
    "        posting = compress_docs.get_posting_list(word)\n",
    "        for doc_posting in posting.values():\n",
    "            for field, positions in doc_posting.items():\n",
    "                positions.sort()\n",
    "                compress_positions = get_position_with_compress(positions, function)\n",
    "                if type(compress_positions) == list:\n",
    "                    if compression_type == GAMMA_CODE and 0 in compress_positions and type(compress_positions[-1]) == str:\n",
    "                        compress_positions[-1] = None \\\n",
    "                            if len(compress_positions[-1]) == 0 else compress_positions[-1]\n",
    "\n",
    "                    doc_posting[field] = compress_positions\n",
    "                elif compress_positions == '':\n",
    "                    doc_posting[field] = None\n",
    "                else:\n",
    "                    doc_posting[field] = compress_positions\n",
    "\n",
    "    return compress_docs\n",
    "\n",
    "\n",
    "def replace_doc_id_with_int(posting: dict):\n",
    "    new_posting = {}\n",
    "    for doc_id, doc_posting in posting.items():\n",
    "        new_posting[doc_map_int[doc_id]] = doc_posting\n",
    "\n",
    "    posting.clear()\n",
    "    posting.update(new_posting)\n",
    "\n",
    "def get_position_with_compress(positions: list, function):\n",
    "    if len(positions) == 0:\n",
    "        return ''\n",
    "\n",
    "    difference_positions = get_position_with_difference(positions)\n",
    "    new_positions = ''\n",
    "    sum_digits = 0\n",
    "\n",
    "    for position in difference_positions:\n",
    "        new_positions += function(position)\n",
    "        sum_digits += len(str(position))\n",
    "\n",
    "    if sum_digits + 2 * len(difference_positions) < len(new_positions):\n",
    "        return difference_positions\n",
    "\n",
    "    if difference_positions[0] == 0:\n",
    "        return [0, new_positions]\n",
    "    else:\n",
    "        return new_positions\n",
    "\n",
    "def get_position_with_difference(positions: list):\n",
    "    prev_position = -1\n",
    "    new_positions = []\n",
    "\n",
    "    for position in positions:\n",
    "        if prev_position == -1:\n",
    "            new_positions.append(position)\n",
    "            prev_position = position\n",
    "            continue\n",
    "\n",
    "        difference = position - prev_position\n",
    "        if difference < 0:\n",
    "            raise Exception(f'Difference is negative between {position} and {prev_position}')\n",
    "        new_positions.append(difference)\n",
    "        prev_position = position\n",
    "\n",
    "    return new_positions\n",
    "\n",
    "def gamma_code(number: int):\n",
    "    if number == 0:\n",
    "        return ''\n",
    "\n",
    "    binary = bin(number)[3:]\n",
    "    length = len(binary)\n",
    "    prefix = '1' * length + '0'\n",
    "    return prefix + binary\n",
    "\n",
    "def variable_byte(number: int):\n",
    "    binary = bin(number)[2:]\n",
    "\n",
    "    variable_byte_number = ''\n",
    "    for i in range(len(binary), 0, -7):\n",
    "        if i == len(binary):\n",
    "            if i < 7:\n",
    "                variable_byte_number = '1' + '0' * (7 - i) + binary[:i]\n",
    "            else:\n",
    "                variable_byte_number = '1' + binary[i - 7:i]\n",
    "            continue\n",
    "\n",
    "        if i < 7:\n",
    "            variable_byte_number = '0' * (8 - i) + binary[:i] + variable_byte_number\n",
    "            break\n",
    "        else:\n",
    "            variable_byte_number = '0' + binary[i - 7:i] + variable_byte_number\n",
    "\n",
    "    return variable_byte_number\n",
    "\n",
    "# store_index(path, NO_COMPRESSION)\n",
    "\n",
    "# store_index(path, GAMMA_CODE, is_compress_general=True)\n",
    "# store_index(path, GAMMA_CODE, is_compress_general=False)\n",
    "\n",
    "# store_index(path, VARIABLE_BYTE, is_compress_general=True)\n",
    "# store_index(path, VARIABLE_BYTE, is_compress_general=False)"
   ]
  },
  {
   "cell_type": "code",
   "execution_count": 15,
   "outputs": [
    {
     "name": "stdout",
     "output_type": "stream",
     "text": [
      "File Size is of no-compression: 51.161703 MB\n",
      "File Size is of general: 31.883314 MB\n",
      "File Size is of gamma-code: 51.940734 MB\n",
      "File Size is of gamma-code with general: 32.662345 MB\n",
      "File Size is of variable-byte: 51.806239 MB\n",
      "File Size is of variable-byte with general: 32.52785 MB\n"
     ]
    }
   ],
   "source": [
    "def get_size(path: str, compression_type: str):\n",
    "    complete_path = path + compression_type + FILE_TYPE\n",
    "\n",
    "    file_size = os.path.getsize(complete_path)\n",
    "    print(f'File Size is of {compression_type}:', file_size / 10**6, 'MB')\n",
    "\n",
    "# get_size(path, NO_COMPRESSION)\n",
    "# get_size(path, GENERAL)\n",
    "\n",
    "# get_size(path, GAMMA_CODE)\n",
    "# get_size(path, GAMMA_CODE + ' with ' + GENERAL)\n",
    "\n",
    "# get_size(path, VARIABLE_BYTE)\n",
    "# get_size(path, VARIABLE_BYTE + ' with ' + GENERAL)"
   ],
   "metadata": {
    "collapsed": false,
    "ExecuteTime": {
     "start_time": "2023-04-12T05:00:31.709063Z",
     "end_time": "2023-04-12T05:00:31.716151Z"
    }
   }
  },
  {
   "cell_type": "code",
   "execution_count": 16,
   "metadata": {
    "ExecuteTime": {
     "start_time": "2023-04-12T05:00:31.716541Z",
     "end_time": "2023-04-12T05:03:59.623907Z"
    }
   },
   "outputs": [
    {
     "name": "stdout",
     "output_type": "stream",
     "text": [
      "Loading no-compression ...\n",
      "Loading no-compression done\n",
      "Creating primary index ...\n",
      "Creating primary index done\n",
      "Loading general ...\n",
      "Loading general done\n",
      "Creating primary index ...\n",
      "Creating primary index done\n"
     ]
    },
    {
     "name": "stderr",
     "output_type": "stream",
     "text": [
      "Decompressed words with general decompression: 100%|██████████| 35993/35993 [00:08<00:00, 4005.28it/s]\n"
     ]
    },
    {
     "name": "stdout",
     "output_type": "stream",
     "text": [
      "Loading gamma-code with general ...\n",
      "Loading gamma-code with general done\n",
      "Creating primary index ...\n",
      "Creating primary index done\n"
     ]
    },
    {
     "name": "stderr",
     "output_type": "stream",
     "text": [
      "Decompressed words with gamma-code: 100%|██████████| 35993/35993 [00:01<00:00, 34399.55it/s]\n",
      "Decompressed words with general decompression: 100%|██████████| 35993/35993 [00:05<00:00, 6531.93it/s] \n"
     ]
    },
    {
     "name": "stdout",
     "output_type": "stream",
     "text": [
      "Loading gamma-code ...\n",
      "Loading gamma-code done\n",
      "Creating primary index ...\n",
      "Creating primary index done\n"
     ]
    },
    {
     "name": "stderr",
     "output_type": "stream",
     "text": [
      "Decompressed words with gamma-code: 100%|██████████| 35993/35993 [00:03<00:00, 10398.05it/s]\n"
     ]
    },
    {
     "name": "stdout",
     "output_type": "stream",
     "text": [
      "Loading variable-byte with general ...\n",
      "Loading variable-byte with general done\n",
      "Creating primary index ...\n",
      "Creating primary index done\n"
     ]
    },
    {
     "name": "stderr",
     "output_type": "stream",
     "text": [
      "Decompressed words with variable-byte: 100%|██████████| 35993/35993 [00:00<00:00, 43396.48it/s]\n",
      "Decompressed words with general decompression: 100%|██████████| 35993/35993 [00:04<00:00, 7281.07it/s] \n"
     ]
    },
    {
     "name": "stdout",
     "output_type": "stream",
     "text": [
      "Loading variable-byte ...\n",
      "Loading variable-byte done\n",
      "Creating primary index ...\n",
      "Creating primary index done\n"
     ]
    },
    {
     "name": "stderr",
     "output_type": "stream",
     "text": [
      "Decompressed words with variable-byte: 100%|██████████| 35993/35993 [00:00<00:00, 42923.94it/s]\n"
     ]
    }
   ],
   "source": [
    "## 7 points\n",
    "\n",
    "def load_index(path: str, compression_type: str, is_compress_general=False):\n",
    "    \"\"\"Loads the index from a file\n",
    "\n",
    "    Parameters\n",
    "    ----------\n",
    "    path : str\n",
    "        Path of the file to load from\n",
    "\n",
    "    compression_type : str\n",
    "        Could be one of the followings:\n",
    "        - no-compression\n",
    "        - gamma-code\n",
    "        - variable-byte\n",
    "    \"\"\"\n",
    "\n",
    "    Path(path).mkdir(parents=True, exist_ok=True)\n",
    "    complete_path = path + compression_type + '.json'\n",
    "\n",
    "    with open(complete_path, 'r') as file:\n",
    "        print(f'Loading {compression_type} ...')\n",
    "        loaded_json = json.load(file)\n",
    "        print(f'Loading {compression_type} done')\n",
    "\n",
    "        print(f'Creating primary index ...')\n",
    "        loaded_docs = Trie(loaded_json)\n",
    "        print(f'Creating primary index done')\n",
    "\n",
    "        if (compression_type == NO_COMPRESSION):\n",
    "            file.close()\n",
    "            return loaded_docs\n",
    "        elif (compression_type == GENERAL):\n",
    "            loaded_docs = decompress_general(loaded_docs)\n",
    "            file.close()\n",
    "            return loaded_docs\n",
    "        elif (compression_type == GAMMA_CODE):\n",
    "            loaded_docs = decompress_code(loaded_docs, compression_type, decompress_gamma_code)\n",
    "            file.close()\n",
    "            return loaded_docs\n",
    "        elif (compression_type == GAMMA_CODE + ' with ' + GENERAL):\n",
    "            loaded_docs = decompress_code(loaded_docs, GAMMA_CODE, decompress_gamma_code)\n",
    "            loaded_docs = decompress_general(loaded_docs)\n",
    "            file.close()\n",
    "            return loaded_docs\n",
    "        elif (compression_type == VARIABLE_BYTE):\n",
    "            loaded_docs = decompress_code(loaded_docs, compression_type, decompress_variable_byte)\n",
    "            file.close()\n",
    "            return loaded_docs\n",
    "        elif (compression_type == VARIABLE_BYTE + ' with ' + GENERAL):\n",
    "            loaded_docs = decompress_code(loaded_docs, VARIABLE_BYTE, decompress_variable_byte)\n",
    "            loaded_docs = decompress_general(loaded_docs)\n",
    "            file.close()\n",
    "            return loaded_docs\n",
    "        else:\n",
    "            raise Exception(f'Compression type \"{compression_type}\" is not valid')\n",
    "\n",
    "def decompress_general(loaded_docs):\n",
    "    all_words = loaded_docs.get_all_words()\n",
    "    pbar = tqdm(all_words, desc='Decompressed words with general decompression')\n",
    "\n",
    "    for word in pbar:\n",
    "        posting = loaded_docs.get_posting_list(word)\n",
    "        replace_int_with_doc_id(posting)\n",
    "\n",
    "        for doc_posting in posting.values():\n",
    "            fields = list(doc_posting.keys())\n",
    "\n",
    "            for field in fields:\n",
    "                doc_posting[get_field_start_with(field)] = doc_posting[field]\n",
    "                del doc_posting[field]\n",
    "\n",
    "    return loaded_docs\n",
    "\n",
    "def replace_int_with_doc_id(posting):\n",
    "    new_posting = {}\n",
    "    for doc_int, doc_posting in posting.items():\n",
    "        doc_id = int_map_doc[int(doc_int)]\n",
    "        new_posting[doc_id] = doc_posting\n",
    "\n",
    "    posting.clear()\n",
    "    posting.update(new_posting)\n",
    "\n",
    "def get_field_start_with(char):\n",
    "    field_names = clean_df.columns[iterated_columns]\n",
    "    for field_name in field_names:\n",
    "        if field_name.startswith(char):\n",
    "            return field_name\n",
    "\n",
    "def decompress_code(loaded_docs, compression_type, decompression_function):\n",
    "    all_words = loaded_docs.get_all_words()\n",
    "    pbar = tqdm(all_words, desc=f'Decompressed words with {compression_type}')\n",
    "\n",
    "    for word in pbar:\n",
    "        posting = loaded_docs.get_posting_list(word)\n",
    "\n",
    "        for doc_posting in posting.values():\n",
    "            for field, positions in doc_posting.items():\n",
    "                if positions is None:\n",
    "                    doc_posting[field] = []\n",
    "                elif type(positions) == list:\n",
    "                    if compression_type == GAMMA_CODE and 0 in positions and type(positions[-1]) == str:\n",
    "                        doc_posting[field] = positions[:-1]\n",
    "                        doc_posting[field].extend(decompression_function(positions[-1]))\n",
    "                    elif compression_type == GAMMA_CODE and 0 in positions and positions[-1] is None:\n",
    "                        doc_posting[field] = positions[:-1]\n",
    "                    else:\n",
    "                        doc_posting[field] = positions\n",
    "                else:\n",
    "                    doc_posting[field] = decompression_function(positions)\n",
    "\n",
    "                add_difference_to_positions(doc_posting[field])\n",
    "\n",
    "    return loaded_docs\n",
    "\n",
    "def decompress_gamma_code(gamma_code):\n",
    "    array = []\n",
    "\n",
    "    count = 0\n",
    "    i = 0\n",
    "    while i < len(gamma_code):\n",
    "        if gamma_code[i] == '1':\n",
    "            count += 1\n",
    "            i += 1\n",
    "        else:\n",
    "            number = '1' + gamma_code[i + 1:i + 1 + count]\n",
    "            i += count + 1\n",
    "            array.append(int(number, 2))\n",
    "            count = 0\n",
    "\n",
    "    return array\n",
    "\n",
    "def decompress_variable_byte(variable_byte):\n",
    "    array = []\n",
    "\n",
    "    number = ''\n",
    "    i = 0\n",
    "    while i < len(variable_byte):\n",
    "        if variable_byte[i] == '0':\n",
    "            number += variable_byte[i + 1:i + 8]\n",
    "            i += 8\n",
    "        else:\n",
    "            number += variable_byte[i + 1:i + 8]\n",
    "            i += 8\n",
    "            array.append(int(number, 2))\n",
    "            number = ''\n",
    "\n",
    "    return array\n",
    "\n",
    "def add_difference_to_positions(positions):\n",
    "    for i in range(1, len(positions)):\n",
    "        positions[i] += positions[i - 1]\n",
    "\n",
    "\n",
    "# loaded_no_compression_docs = load_index(path, NO_COMPRESSION)\n",
    "# loaded_general_docs = load_index(path, GENERAL)\n",
    "\n",
    "# loaded_gamma_code_general_docs = load_index(path, GAMMA_CODE + ' with ' + GENERAL)\n",
    "# loaded_gamma_code_docs = load_index(path, GAMMA_CODE)\n",
    "\n",
    "# loaded_variable_byte_general_docs = load_index(path, VARIABLE_BYTE + ' with ' + GENERAL)\n",
    "# loaded_variable_byte_docs = load_index(path, VARIABLE_BYTE)"
   ]
  },
  {
   "cell_type": "code",
   "execution_count": 17,
   "outputs": [
    {
     "name": "stdout",
     "output_type": "stream",
     "text": [
      "No compression is equal to original: True\n",
      "General is equal to original: True\n",
      "Gamma code general is equal to original: True\n",
      "Gamma code is equal to original: True\n",
      "Variable byte general is equal to original: True\n",
      "Variable byte is equal to original: True\n"
     ]
    }
   ],
   "source": [
    "def is_equal(original_doc, loaded_doc):\n",
    "    if original_doc.get_all_words() != loaded_doc.get_all_words():\n",
    "        return False\n",
    "\n",
    "    for word in original_doc.get_all_words():\n",
    "        original_posting = original_doc.get_posting_list(word)\n",
    "        loaded_posting = loaded_doc.get_posting_list(word)\n",
    "\n",
    "        if str(original_posting) != str(loaded_posting):\n",
    "            return word\n",
    "\n",
    "    return True\n",
    "\n",
    "# print('No compression is equal to original:', is_equal(docs, loaded_no_compression_docs))\n",
    "# print('General is equal to original:', is_equal(docs, loaded_general_docs))\n",
    "\n",
    "# print('Gamma code general is equal to original:', is_equal(docs, loaded_gamma_code_general_docs))\n",
    "# print('Gamma code is equal to original:', is_equal(docs, loaded_gamma_code_docs))\n",
    "\n",
    "# print('Variable byte general is equal to original:', is_equal(docs, loaded_variable_byte_general_docs))\n",
    "# print('Variable byte is equal to original:', is_equal(docs, loaded_variable_byte_docs))"
   ],
   "metadata": {
    "collapsed": false,
    "ExecuteTime": {
     "start_time": "2023-04-12T05:03:59.624129Z",
     "end_time": "2023-04-12T05:04:09.862404Z"
    }
   }
  },
  {
   "cell_type": "markdown",
   "metadata": {},
   "source": [
    "<div dir=\"rtl\">\n",
    "<font face=\"XB Zar\" size=4>\n",
    "    <h1>\n",
    "    <b>اصلاح پرسمان (۳ + ۹\n",
    "     نمره)</b>\n",
    "    </h1>\n",
    "    در صورتی که پرسمان ورودی دارای غلط املایی باشد یا به عبارتی لغاتی از آن در لغت‌نامه موجود نباشد، لازم است که با جستجوی لغات احتمالی و اصلاح پرسمان به ادامه جستجو پرداخته شود.\n",
    "    <br>\n",
    "    <br>\n",
    "    برای اینکار ابتدا باید bigramهای لغت را به دست آورید، سپس با معیار jaccard بیست لغتی که بیشترین تعداد bigram مشترک با لغت مورد نظر را دارند بدست آورید. در آخر با معیار minimum edit distance لغت جایگزین را برای لغت مورد نظر پیدا کنید.\n",
    "    <br>\n",
    "    <br>\n",
    "    نیازی به ذخیره‌سازی و فشرده‌سازی نمایه bigram نیست. همچنین می‌توانید از کد آماده برای محاسبه edit distance استفاده کنید.\n",
    "</font>\n",
    "</div>"
   ]
  },
  {
   "cell_type": "code",
   "execution_count": 18,
   "metadata": {
    "ExecuteTime": {
     "start_time": "2023-04-12T05:04:09.862754Z",
     "end_time": "2023-04-12T05:04:10.903973Z"
    }
   },
   "outputs": [
    {
     "name": "stderr",
     "output_type": "stream",
     "text": [
      "Strings with created bigram index: 100%|██████████| 35993/35993 [00:00<00:00, 37724.72it/s]\n"
     ]
    }
   ],
   "source": [
    "print('Start query correction ...')\n",
    "\n",
    "## 3 points\n",
    "\n",
    "\n",
    "def create_bigram_index(texts: List[str]) -> Dict[str, List[str]]:\n",
    "    \"\"\"\n",
    "    Creates a bigram index for the spell correction\n",
    "\n",
    "    Parameters\n",
    "    ----------\n",
    "    texts: List[str]\n",
    "        The titles and abstracts of articles\n",
    "\n",
    "    Returns\n",
    "    -------\n",
    "    dict\n",
    "        A dictionary of bigrams and their occurence\n",
    "    \"\"\"\n",
    "    bigram: Dict[str, List[str]] = {}\n",
    "    pbar = tqdm(texts, desc='Strings with created bigram index')\n",
    "\n",
    "    for string in pbar:\n",
    "        concanated_string = '$' + string + '$'\n",
    "        for i in range(len(concanated_string) - 1):\n",
    "            bigram[concanated_string[i:i + 2]] = bigram.get(concanated_string[i:i + 2], []) + [string]\n",
    "\n",
    "    return bigram\n",
    "\n",
    "\n",
    "bigram = create_bigram_index(docs.get_all_words())"
   ]
  },
  {
   "cell_type": "code",
   "execution_count": 19,
   "metadata": {
    "ExecuteTime": {
     "start_time": "2023-04-12T05:04:10.904057Z",
     "end_time": "2023-04-12T05:04:10.909663Z"
    }
   },
   "outputs": [],
   "source": [
    "## 9 points\n",
    "\n",
    "\n",
    "def correct_text(text: str, similar_words_limit: int=20) -> str:\n",
    "    global docs, bigram\n",
    "    \"\"\"\n",
    "    Correct the give query text, if it is misspelled\n",
    "\n",
    "    Paramters\n",
    "    ---------\n",
    "    text: str\n",
    "        The query text\n",
    "    \n",
    "    Returns\n",
    "    str\n",
    "        The corrected form of the given text\n",
    "    \"\"\"\n",
    "    corrected_text = \"\"\n",
    "    clean_text = clean_data(text, False)[0]\n",
    "    concanated_text = '$' + clean_text + '$'\n",
    "    all_words = set()\n",
    "    for i in range(len(concanated_text) - 1):\n",
    "        all_words = all_words.union(bigram.get(concanated_text[i:i + 2], []))\n",
    "\n",
    "\n",
    "    sort_words = sorted(all_words, key=lambda x: jaccard_similarity(concanated_text, '$' + x + '$'), reverse=True)\n",
    "    sort_words = sort_words[:similar_words_limit]\n",
    "\n",
    "    min_edit_distance = float('inf')\n",
    "    for word in sort_words:\n",
    "        edit_distance = editdistance.eval(clean_text, word)\n",
    "        if edit_distance < min_edit_distance:\n",
    "            min_edit_distance = edit_distance\n",
    "            corrected_text = word\n",
    "\n",
    "    return corrected_text\n",
    "\n",
    "def jaccard_similarity(query, text):\n",
    "    query_bigram = set()\n",
    "    text_bigram = set()\n",
    "\n",
    "    for i in range(len(query) - 1):\n",
    "        query_bigram.add(query[i:i + 2])\n",
    "\n",
    "    for i in range(len(text) - 1):\n",
    "        text_bigram.add(text[i:i + 2])\n",
    "\n",
    "    return len(query_bigram.intersection(text_bigram)) / len(query_bigram.union(text_bigram))"
   ]
  },
  {
   "cell_type": "code",
   "execution_count": 20,
   "outputs": [
    {
     "data": {
      "text/plain": "'deep'"
     },
     "execution_count": 20,
     "metadata": {},
     "output_type": "execute_result"
    }
   ],
   "source": [
    "# correct_text('ddeepp')"
   ],
   "metadata": {
    "collapsed": false,
    "ExecuteTime": {
     "start_time": "2023-04-12T05:04:10.905859Z",
     "end_time": "2023-04-12T05:04:10.941715Z"
    }
   }
  },
  {
   "cell_type": "code",
   "execution_count": 21,
   "outputs": [],
   "source": [
    "def store_bigram_index(path: str, bigram_index: Dict[str, List[str]]):\n",
    "    path_dir = os.path.dirname(path)\n",
    "    Path(path_dir).mkdir(parents=True, exist_ok=True)\n",
    "\n",
    "    with open(path, 'w+') as file:\n",
    "        json.dump(bigram_index, file)\n",
    "        file.close()\n",
    "\n",
    "def load_bigram_index(path: str) -> Dict[str, List[str]]:\n",
    "    with open(path, 'r') as file:\n",
    "        bigram_index = json.load(file)\n",
    "        file.close()\n",
    "\n",
    "    return bigram_index\n",
    "\n",
    "file_path = 'index/bigram_index.json'"
   ],
   "metadata": {
    "collapsed": false,
    "ExecuteTime": {
     "start_time": "2023-04-12T05:04:10.940877Z",
     "end_time": "2023-04-12T05:04:10.944396Z"
    }
   }
  },
  {
   "cell_type": "code",
   "execution_count": 22,
   "outputs": [],
   "source": [
    "store_bigram_index(file_path, bigram)"
   ],
   "metadata": {
    "collapsed": false,
    "ExecuteTime": {
     "start_time": "2023-04-12T05:04:10.944916Z",
     "end_time": "2023-04-12T05:04:11.204117Z"
    }
   }
  },
  {
   "cell_type": "code",
   "execution_count": 23,
   "outputs": [],
   "source": [
    "bigram = load_bigram_index(file_path)"
   ],
   "metadata": {
    "collapsed": false,
    "ExecuteTime": {
     "start_time": "2023-04-12T05:04:11.205372Z",
     "end_time": "2023-04-12T05:04:11.263463Z"
    }
   }
  },
  {
   "cell_type": "markdown",
   "metadata": {},
   "source": [
    "<div dir=\"rtl\">\n",
    "<font face=\"XB Zar\" size=4>\n",
    "    <h1>\n",
    "    <b>جستجو و بازیابی اسناد (۲۰ + ۵ نمره)</b>\n",
    "    </h1>\n",
    "در این بخش لازم است که شما پرسمانی را که از کاربر میگیرید، در مجموعه اسناد نمایه شده جست و جو کنید. توجه داشته باشید که جست و جویی که انجام میدهید هم باید در عنوان مقاله و هم در چکیده آن انجام شود. در نهایت، اسناد باید به ترتیب امتیاز نهاییشان برگردانده شوند. امتیاز نهایی هر سند نیز از جمع وزن دار امتیاز جست و جو در عنوان و جست و جو در چکیده مقاله به دست می آید.\n",
    "<br>\n",
    "حال به توضیح چگونگی جست و جو میپردازیم. حال به توضیح چگونگی جست و جو میپردازیم. در این قسمت بنا بر این است که دو روش جستجو را پیاده سازی کنید. روش اول جست و جو، جست و جو ترتیب دار در فضای برداری \n",
    "<b>tf-idf</b>\n",
    "به روش های <b>ltn-lnn</b> و <b>ltc-lnc</b> می باشد. \n",
    "روش دوم، جستجو بر اساس احتمال (روش Okapi BM25) است.\n",
    "<br>\n",
    "به طور کلی، شما به کمک وزنی که به عنوان ورودی به تابع خود میدهید، میتوانید امتیاز نهایی را مطابق زیر محاسبه کنید. توجه داشته باشید که این وزن عددی بین 0 و 1 است و بدیهی است که در صورت مثلا صفر بودن (در مثال زیر) تاثیر عنوان در جست و جوی شما حذف می شود\n",
    "<br>\n",
    "\n",
    "\n",
    "final score = weight * abstract_score + (1 - weight) * title_score\n",
    "\n",
    "\n",
    "در روش دوم، نیاز است تا روش بازیابی اطلاعات بر اساس احتمالات را پیاده سازی کنید که در اسلایدهای مربوط به این قسمت توضیح داده شده است.\n",
    "\n",
    "<div dir=\"rtl\">\n",
    "در تابع search که مربوط به جست و جوی پرسمان کلی است، به عنوان ورودی پارامتر پرسمان (query)، روش محاسبه امتیاز(method)، تعداد اسنادی که باید برگردانده شود (n) را ورودی می گیرید. علاوه بر این، به کمک پارامتر ورودی mode مشخص خواهید کرد که آیا جست و جو در عنوان مقاله و چکیده آن به طور جدا انجام می شود یا خیر و به کمک ورودی where نیز مشخص می کنیم که اگر قرار بود جست و جوی پرسمان. تنها در یکی از آنها انجام شود، کدام است.\n",
    "\n",
    "پس از به دست آوردن لیست خروجی‌ها، در صورتی که ورودی\n",
    "print\n",
    "مقدار\n",
    "True\n",
    "داشت، لیست مقالات را به صورت خوانا و همراه با \n",
    "snippet\n",
    "در خروجی چاپ کنید (۵ نمره).\n",
    "</div>\n",
    "</font>\n",
    "</div>"
   ]
  },
  {
   "cell_type": "code",
   "execution_count": 24,
   "outputs": [
    {
     "name": "stderr",
     "output_type": "stream",
     "text": [
      "Documents with calculated length in title field: 100%|██████████| 6183/6183 [00:03<00:00, 1595.43it/s]\n",
      "Documents with calculated length in abstract field: 100%|██████████| 6183/6183 [00:03<00:00, 1617.68it/s]\n"
     ]
    }
   ],
   "source": [
    "print('Start searching ...')\n",
    "\n",
    "def get_average_document_length(field):\n",
    "    global docs\n",
    "\n",
    "    check_field(field)\n",
    "\n",
    "    avg_doc_length = 0\n",
    "\n",
    "    pbar = tqdm(range(len(clean_df)), total=len(clean_df), desc=f'Documents with calculated length in {field} field')\n",
    "    for doc_id_index in pbar:\n",
    "        doc_id = clean_df.iloc[doc_id_index].iloc[0]\n",
    "        avg_doc_length += len(get_document_by_id(doc_id)[field].values[0])\n",
    "    avg_doc_length /= len(clean_df)\n",
    "\n",
    "    return avg_doc_length\n",
    "\n",
    "avg_doc_title_length = get_average_document_length('title')\n",
    "avg_doc_abstract_length = get_average_document_length('abstract')"
   ],
   "metadata": {
    "collapsed": false,
    "ExecuteTime": {
     "start_time": "2023-04-12T05:04:11.266570Z",
     "end_time": "2023-04-12T05:04:18.969681Z"
    }
   }
  },
  {
   "cell_type": "code",
   "execution_count": 25,
   "metadata": {
    "ExecuteTime": {
     "start_time": "2023-04-12T05:04:18.969869Z",
     "end_time": "2023-04-12T05:04:19.006848Z"
    }
   },
   "outputs": [],
   "source": [
    "## 25 points\n",
    "\n",
    "\n",
    "def search(title_query: str, abstract_query: str, max_result_count: int, method: str = 'ltn.lnn', weight: float = 0.5, should_print=False):\n",
    "    \"\"\"\n",
    "        Finds relevant documents to query\n",
    "        \n",
    "        Parameters\n",
    "        ---------------------------------------------------------------------------------------------------\n",
    "        max_result_count: Return top 'max_result_count' docs which have the highest scores. \n",
    "                          notice that if max_result_count = -1, then you have to return all docs\n",
    "        \n",
    "        mode: 'detailed' for searching in title and text separately.\n",
    "              'overall' for all words, and weighted by where the word apears on.\n",
    "        \n",
    "        where: when mode ='detailed', when we want search query \n",
    "                in title or text not both of them at the same time.\n",
    "        \n",
    "        method: 'ltn-lnn' or 'ltc-lnc' or 'okapi25'\n",
    "\n",
    "        Returns\n",
    "        ----------------------------------------------------------------------------------------------------\n",
    "        list\n",
    "        Retreived documents with snippet\n",
    "    \"\"\"\n",
    "\n",
    "    if method != 'okapi25':\n",
    "        result = tf_idf(title_query, abstract_query, weight, method)\n",
    "    else:\n",
    "        result = okapi25(title_query, abstract_query, weight)\n",
    "\n",
    "    if max_result_count != -1:\n",
    "        result_doc = result[0][:max_result_count]\n",
    "    else:\n",
    "        result_doc = result[0]\n",
    "\n",
    "    if should_print:\n",
    "        document_scores = result[1]\n",
    "        for doc_id in result_doc:\n",
    "            document = get_document_by_id(doc_id)\n",
    "            title = document['title'].values[0]\n",
    "            abstract = document['abstract'].values[0]\n",
    "            final_score, title_score, abstract_score = document_scores[doc_id]\n",
    "\n",
    "            print('doc_id:', doc_id)\n",
    "            print('title:', title)\n",
    "            print('abstract:', abstract[:20])\n",
    "            print('final_score:', final_score)\n",
    "            print('title_score:', title_score)\n",
    "            print('abstract_score:', abstract_score)\n",
    "\n",
    "            snippet = get_snippet(doc_id, title_query, abstract_query, weight != 1, weight != 0)\n",
    "            print('snippet:')\n",
    "            print('    title:', snippet[0])\n",
    "            print('    abstract:', snippet[1])\n",
    "            print('----------------------------------------')\n",
    "\n",
    "    return result_doc\n",
    "\n",
    "\n",
    "def tf_idf(title_query: str, abstract_query: str, weight: float=0.3, method: str='ltn.lnn'):\n",
    "    global docs\n",
    "\n",
    "    method_split = method.split('.')\n",
    "    doc_method = method_split[0]\n",
    "    query_method = method_split[1]\n",
    "\n",
    "    title_query_terms_normalized_w = get_query_normalized_weights(title_query, query_method)\n",
    "    abstract_query_terms_normalized_w = get_query_normalized_weights(abstract_query, query_method)\n",
    "\n",
    "    title_query_terms = list(title_query_terms_normalized_w[0].keys())\n",
    "    abstract_query_terms = list(abstract_query_terms_normalized_w[0].keys())\n",
    "\n",
    "    document_scores = {}\n",
    "    iterated_documents = get_union_of_documents(title_query_terms + abstract_query_terms)\n",
    "\n",
    "    pbar = tqdm(iterated_documents, total=len(iterated_documents), desc='Checked documents')\n",
    "    for doc_id in pbar:\n",
    "        title_score = get_score(doc_id, title_query_terms, title_query_terms_normalized_w, 'title', doc_method)\n",
    "        abstract_score = get_score(doc_id, abstract_query_terms, abstract_query_terms_normalized_w, 'abstract', doc_method)\n",
    "\n",
    "        final_score = weight * abstract_score + (1 - weight) * title_score\n",
    "        document_scores[doc_id] = (final_score, title_score, abstract_score)\n",
    "\n",
    "    sorted_doc_ids = sorted(document_scores, key=lambda x: document_scores[x][0], reverse=True)\n",
    "    return sorted_doc_ids, document_scores\n",
    "\n",
    "def get_union_of_documents(query_terms):\n",
    "    global docs\n",
    "\n",
    "    union_of_documents = set()\n",
    "    for term in query_terms:\n",
    "        try:\n",
    "            union_of_documents = union_of_documents.union(set(docs.get_posting_list(term).keys()))\n",
    "        except:\n",
    "            print(f'No posting list for term: {term} (probably a stop word)')\n",
    "            continue\n",
    "    return list(union_of_documents)\n",
    "\n",
    "def get_snippet(doc_id, title_query, abstract_query, show_title_snippet=True, show_abstract_snippet=True):\n",
    "    if show_title_snippet:\n",
    "        title_query_terms = list(set(clean_data(title_query)))\n",
    "        title_snippet = get_snippet_by_field(doc_id, 'title', title_query_terms)\n",
    "    else:\n",
    "        title_snippet = ''\n",
    "\n",
    "    if show_abstract_snippet:\n",
    "        abstract_query_terms = list(set(clean_data(abstract_query)))\n",
    "        abstract_snippet = get_snippet_by_field(doc_id, 'abstract', abstract_query_terms)\n",
    "    else:\n",
    "        abstract_snippet = ''\n",
    "\n",
    "    return title_snippet, abstract_snippet\n",
    "\n",
    "def get_snippet_by_field(doc_id, field, terms):\n",
    "    global docs\n",
    "\n",
    "    check_field(field)\n",
    "    snippet = ''\n",
    "    offset = 2\n",
    "\n",
    "    document = get_document_by_id(doc_id, False)\n",
    "    clean_field_values = clean_data(document[field].values[0])\n",
    "    field_values = clean_data(document[field].values[0], complete_clean=False)\n",
    "    for term in terms:\n",
    "        if term in clean_field_values and term not in stop_words:\n",
    "            try:\n",
    "                positions = docs.get_posting_list(term)[doc_id][field]\n",
    "                for position in positions:\n",
    "                    min_bound = max(0, position - offset)\n",
    "                    max_bound = min(len(clean_field_values), position + offset)\n",
    "                    snippet += ' '.join(field_values[min_bound:max_bound]) + ', '\n",
    "            except:\n",
    "                print(f'No posting list for term: {term} (probably a stop word)')\n",
    "                continue\n",
    "\n",
    "    return snippet[:-2]\n",
    "\n",
    "def get_query_normalized_weights(query: str, method: str):\n",
    "    query_terms = clean_data(query)\n",
    "    remove_stop_words(query_terms)\n",
    "    query_terms_normalized_w = get_normalized_weights(0, query_terms, 'query', method)\n",
    "    return query_terms_normalized_w\n",
    "\n",
    "def get_score(doc_id, query_terms, query_terms_normalized_w, field, method):\n",
    "    check_field(field)\n",
    "\n",
    "    score = 0.0\n",
    "    document = get_document_by_id(doc_id)\n",
    "    document_terms_normalized_w = get_normalized_weights(doc_id, document[field].values[0], field, method)\n",
    "    for term in query_terms:\n",
    "        if term in document_terms_normalized_w[0]:\n",
    "            score += query_terms_normalized_w[0][term] * document_terms_normalized_w[0][term]\n",
    "\n",
    "        if term not in query_terms_normalized_w[0]:\n",
    "            raise Exception(f'term {term} not found in query_terms_normalized_w')\n",
    "\n",
    "    return score / (query_terms_normalized_w[1] * document_terms_normalized_w[1])\n",
    "\n",
    "def get_tf(doc_id, term, field, method):\n",
    "    global docs\n",
    "\n",
    "    check_field(field)\n",
    "    if method != 'n' and method != 'l':\n",
    "        raise Exception(f'method should be n (natural) or l (logarithmic): {method}')\n",
    "    else:\n",
    "        try:\n",
    "            posting_list = docs.get_posting_list(term)\n",
    "        except:\n",
    "            posting_list = {}\n",
    "\n",
    "        if doc_id not in posting_list:\n",
    "            return 0\n",
    "        else:\n",
    "            positions = posting_list[doc_id][field]\n",
    "\n",
    "            if method == 'n':\n",
    "                return len(positions)\n",
    "            elif method == 'l':\n",
    "                if len(positions) == 0:\n",
    "                    return 0\n",
    "                else:\n",
    "                    return 1 + math.log10(len(positions))\n",
    "\n",
    "def get_query_tf(term, clean_query: list, method):\n",
    "    if method != 'n' and method != 'l':\n",
    "        raise Exception(f'method should be n (natural) or l (logarithmic): {method}')\n",
    "    elif method == 'n':\n",
    "        return clean_query.count(term)\n",
    "    elif method == 'l':\n",
    "        natural_tf = clean_query.count(term)\n",
    "        if natural_tf == 0:\n",
    "            return 0\n",
    "        else:\n",
    "            return 1 + math.log10(natural_tf)\n",
    "\n",
    "def get_idf(term, field, method):\n",
    "    global docs\n",
    "\n",
    "    check_field(field)\n",
    "\n",
    "    if method != 'n' and method != 't':\n",
    "        raise Exception(f'method should be n (no) or t (idf): {method}')\n",
    "    elif method == 'n':\n",
    "        return 1\n",
    "    elif method == 't':\n",
    "        df = 0\n",
    "\n",
    "        try:\n",
    "            term_posting_list = docs.get_posting_list(term)\n",
    "        except:\n",
    "            term_posting_list = {}\n",
    "\n",
    "        for doc_id in term_posting_list:\n",
    "            if len(term_posting_list[doc_id][field]) > 0:\n",
    "                df += 1\n",
    "\n",
    "        if df == 0:\n",
    "            return 0\n",
    "        else:\n",
    "            return math.log10(len(clean_df) / df)\n",
    "\n",
    "def get_weights(doc_id, clean_text: list, field, method):\n",
    "    global docs, iterated_columns\n",
    "\n",
    "    check_field(field, extend=['query'])\n",
    "    tf_method = method[0]\n",
    "    idf_method = method[1]\n",
    "\n",
    "    weights = {}\n",
    "    for term in clean_text:\n",
    "        if term in weights.keys():\n",
    "            continue\n",
    "\n",
    "        if field == 'query':\n",
    "            tf = get_query_tf(term, clean_text, tf_method)\n",
    "\n",
    "            fields = clean_df.columns[iterated_columns]\n",
    "            idf = 0\n",
    "            for field in fields:\n",
    "                idf += get_idf(term, field, idf_method)\n",
    "        else:\n",
    "            tf = get_tf(doc_id, term, field, tf_method)\n",
    "            idf = get_idf(term, field, idf_method)\n",
    "\n",
    "        weights[term] = tf * idf\n",
    "\n",
    "    return weights\n",
    "\n",
    "def get_normalized_weights(doc_id, clean_text: list, field, method):\n",
    "    global docs\n",
    "\n",
    "    weights = get_weights(doc_id, clean_text, field, method)\n",
    "    normalize_method = method[2]\n",
    "\n",
    "    if normalize_method == 'n':\n",
    "        return weights, 1\n",
    "    elif normalize_method == 'c':\n",
    "        sum_of_squares = 0.0\n",
    "        for term in weights:\n",
    "            sum_of_squares += weights[term] ** 2\n",
    "        sum_of_squares = math.sqrt(sum_of_squares)\n",
    "\n",
    "        if sum_of_squares == 0:\n",
    "            sum_of_squares = 1\n",
    "        return weights, sum_of_squares\n",
    "    else:\n",
    "        raise Exception(f'Normalization method unavailable: {normalize_method}')\n",
    "\n",
    "\n",
    "def okapi25(title_query: str, abstract_query: str, weight: float=0.3):\n",
    "    global docs, avg_doc_title_length, avg_doc_abstract_length\n",
    "\n",
    "    title_query_terms = list(set(clean_data(title_query)))\n",
    "    remove_stop_words(title_query_terms)\n",
    "    abstract_query_terms = list(set(clean_data(abstract_query)))\n",
    "    remove_stop_words(abstract_query_terms)\n",
    "\n",
    "    document_scores = {}\n",
    "    iterated_documents = get_union_of_documents(title_query_terms + abstract_query_terms)\n",
    "\n",
    "    pbar = tqdm(iterated_documents, total=len(iterated_documents), desc='Checked documents')\n",
    "    for doc_id in pbar:\n",
    "        title_score = get_okapi25_score(doc_id, title_query_terms, 'title', avg_doc_title_length)\n",
    "        abstract_score = get_okapi25_score(doc_id, abstract_query_terms, 'abstract', avg_doc_abstract_length)\n",
    "\n",
    "        final_score = weight * abstract_score + (1 - weight) * title_score\n",
    "        document_scores[doc_id] = (final_score, title_score, abstract_score)\n",
    "\n",
    "    sorted_doc_ids = sorted(document_scores, key=lambda x: document_scores[x][0], reverse=True)\n",
    "    return sorted_doc_ids, document_scores\n",
    "\n",
    "def get_okapi25_score(doc_id, query_terms, field, avg_doc_length):\n",
    "    global docs\n",
    "\n",
    "    check_field(field)\n",
    "\n",
    "    score = 0\n",
    "    k1 = 1.2\n",
    "    b = 0.75\n",
    "    document = get_document_by_id(doc_id)\n",
    "    document_length = len(document[field].values[0])\n",
    "    for term in query_terms:\n",
    "        tf = get_tf(doc_id, term, field, 'n')\n",
    "        idf = get_idf(term, field, 't')\n",
    "\n",
    "        numerator = tf * (k1 + 1)\n",
    "        denominator = tf + k1 * (1 - b + b * document_length / avg_doc_length)\n",
    "        score += idf * numerator / denominator\n",
    "\n",
    "    return score"
   ]
  },
  {
   "cell_type": "code",
   "execution_count": 26,
   "outputs": [
    {
     "name": "stderr",
     "output_type": "stream",
     "text": [
      "Checked documents: 100%|██████████| 1139/1139 [00:33<00:00, 33.90it/s]"
     ]
    },
    {
     "name": "stdout",
     "output_type": "stream",
     "text": [
      "doc_id: bbf052271c70dd926cd230bb5640cdcdfeccf1cc\n",
      "title: ['accuraci', 'analysi', 'japanes', 'machin', 'translat', 'base', 'machin', 'learn', 'imag', 'featur', 'retriev']\n",
      "abstract: ['at', 'present', 'there', 'still', 'mani', 'defici', 'chinesejapanes', 'machin', 'translat', 'process', 'corpu', 'inform', 'not', 'deep', 'enough', 'translat', 'process', 'lack', 'rich', 'languag']\n",
      "final_score: 3.8497614025920806\n",
      "title_score: 4.464230170105614\n",
      "abstract_score: 2.416000945060505\n",
      "snippet:\n",
      "    title: translation based on machine, analysis of japanese machine, machine translation based on\n",
      "    abstract: methods the processing of\n",
      "----------------------------------------\n",
      "doc_id: 2c88c3d8bc68858e4c9ba58ec3d71454e94eb96e\n",
      "title: ['analysi', 'chine', 'machin', 'translat', 'train', 'base', 'deep', 'learn', 'technolog']\n",
      "abstract: ['advent', 'inform', 'age', 'peopl', 'can', 'establish', 'good', 'commun', 'through', 'internet', 'technolog', 'mechan', 'translat', 'ha', 'becom', 'key', 'mean', 'solv', 'peopl', 'commun']\n",
      "final_score: 3.472531103360381\n",
      "title_score: 3.431304570212689\n",
      "abstract_score: 3.5687263473716633\n",
      "snippet:\n",
      "    title: training based on deep, analysis of chinese machine\n",
      "    abstract: paper uses existing neural, training of the translation, is improved by 16\n",
      "----------------------------------------\n",
      "doc_id: 53b047e503f4c24602f376a774d653f7ed56c024\n",
      "title: ['practic', 'blackbox', 'attack', 'against', 'machin', 'learn']\n",
      "abstract: ['machin', 'learn', 'ml', 'eg', 'deep', 'neural', 'network', 'dnn', 'vulner', 'adversari', 'exampl', 'malici', 'input', 'modifi', 'yield', 'erron', 'output', 'while', 'appear', 'unmodifi']\n",
      "final_score: 3.344900108871755\n",
      "title_score: 3.431304570212689\n",
      "abstract_score: 3.1432896990762433\n",
      "snippet:\n",
      "    title: against machine learning, attacks against machine learning\n",
      "    abstract: ml models eg deep, the target dnn using\n",
      "----------------------------------------\n",
      "doc_id: 9cc8609f904c50b1be408abede7ab7f5cdbc9744\n",
      "title: ['research', 'machin', 'translat', 'deep', 'neural', 'network', 'learn', 'base', 'ontolog']\n",
      "abstract: ['align', 'differ', 'ontolog', 'necessari', 'find', 'effect', 'way', 'achiev', 'interoper', 'inform', 'context', 'semant', 'web', 'develop', 'accur', 'reliabl', 'techniqu', 'automat', 'perform', 'task']\n",
      "final_score: 3.344900108871755\n",
      "title_score: 3.431304570212689\n",
      "abstract_score: 3.1432896990762433\n",
      "snippet:\n",
      "    title: of deep neural network, research on machine\n",
      "    abstract: order to solve the, after the senior translators\n",
      "----------------------------------------\n",
      "doc_id: 4fdefd6ca91e7fa80873e51f029f596b07eda70c\n",
      "title: ['interpret', 'compound', 'activ', 'predict', 'complex', 'machin', 'learn', 'use', 'local', 'approxim', 'shapley', 'valu']\n",
      "abstract: ['qualit', 'or', 'quantit', 'structureact', 'relationship', 'sar', 'machin', 'learn', 'ml', 'train', 'recogn', 'structur', 'pattern', 'differenti', 'between', 'activ', 'inact', 'compound', 'understand', 'decis']\n",
      "final_score: 3.344900108871755\n",
      "title_score: 3.431304570212689\n",
      "abstract_score: 3.1432896990762433\n",
      "snippet:\n",
      "    title: predictions from complex machine, activity predictions from complex\n",
      "    abstract: the interpretation of ml, method termed shapley additive\n",
      "----------------------------------------\n",
      "doc_id: 1ba07035f83792154e77ed35d842e04de8a1eeeb\n",
      "title: ['of', 'machin', 'learn', 'stroke', 'rehabilit', 'narr', 'review']\n",
      "abstract: ['narr', 'review', 'conduct', 'machin', 'learn', 'applic', 'research', 'field', 'stroke', 'rehabilit', 'machin', 'learn', 'commonli', 'medic', 'research', 'includ', 'random', 'forest', 'logist', 'regress']\n",
      "final_score: 3.344900108871755\n",
      "title_score: 3.431304570212689\n",
      "abstract_score: 3.1432896990762433\n",
      "snippet:\n",
      "    title: use of machine learning, use of machine\n",
      "    abstract: machine learning models commonly, include random forest logistic\n",
      "----------------------------------------\n",
      "doc_id: d14ac2acf1b18e815385c631216eb4ee3a4fc842\n",
      "title: ['artifici', 'intellig', 'machin', 'learn', 'the', 'evolut', 'healthcar']\n",
      "abstract: ['vol', '7', 'no', '3', 'march', '2018', '223', 'first', 'propos', 'professor', 'john', 'mccarthi', 'at', 'dartmouth', 'colleg', 'summer', '19561', 'artifici', 'intellig', 'ai']\n",
      "final_score: 3.344900108871755\n",
      "title_score: 3.431304570212689\n",
      "abstract_score: 3.1432896990762433\n",
      "snippet:\n",
      "    title: intelligence machine learning and, artificial intelligence machine learning\n",
      "    abstract: good answer ’ is, learning occurs without explicit\n",
      "----------------------------------------\n",
      "doc_id: 20f77d34ab1aec7d0a6e613a740aff7ec7fbf55a\n",
      "title: ['machin', 'translat', 'framework', 'base', 'neural', 'network', 'deep', 'learn', 'semant', 'featur', 'analysi']\n",
      "abstract: ['paper', 'an', 'encoderdecod', 'framework', 'base', 'semant', 'featur', 'analysi', 'construct', 'neural', 'machin', 'translat', 'let', 'machin', 'automat', 'perform', 'featur', 'learn', 'transform', 'corpu']\n",
      "final_score: 3.1267134826670335\n",
      "title_score: 3.431304570212689\n",
      "abstract_score: 2.416000945060505\n",
      "snippet:\n",
      "    title: on neural network deep, a machine\n",
      "    abstract: and use neural networks\n",
      "----------------------------------------\n",
      "doc_id: 9a3855ac64358d95386cac5120929c88197e26dc\n",
      "title: ['machin', 'learn', 'cereal', 'crop', 'diseas', 'detect', 'review']\n",
      "abstract: ['cereal', 'import', 'major', 'sourc', 'human', 'diet', 'they', 'constitut', 'more', 'than', 'twothird', 'world', '’', 's', 'food', 'sourc', 'cover', 'more', 'than', '56']\n",
      "final_score: 3.1267134826670335\n",
      "title_score: 3.431304570212689\n",
      "abstract_score: 2.416000945060505\n",
      "snippet:\n",
      "    title: machine learning in, machine learning\n",
      "    abstract: occur on six cereal\n",
      "----------------------------------------\n",
      "doc_id: 0276aecb97ffa1f7f279e2768abb3484933eacfb\n",
      "title: ['machin', 'learn', 'explain', 'ai']\n",
      "abstract: ['success', 'statist', 'machin', 'learn', 'ml', 'made', 'field', 'artifici', 'intellig', 'ai', 'so', 'popular', 'again', 'after', 'last', 'ai', 'winter', 'meanwhil', 'deep', 'learn']\n",
      "final_score: 3.1267134826670335\n",
      "title_score: 3.431304570212689\n",
      "abstract_score: 2.416000945060505\n",
      "snippet:\n",
      "    title: from machine learning, from machine\n",
      "    abstract: popular again after the\n",
      "----------------------------------------\n"
     ]
    },
    {
     "name": "stderr",
     "output_type": "stream",
     "text": [
      "\n"
     ]
    },
    {
     "data": {
      "text/plain": "['bbf052271c70dd926cd230bb5640cdcdfeccf1cc',\n '2c88c3d8bc68858e4c9ba58ec3d71454e94eb96e',\n '53b047e503f4c24602f376a774d653f7ed56c024',\n '9cc8609f904c50b1be408abede7ab7f5cdbc9744',\n '4fdefd6ca91e7fa80873e51f029f596b07eda70c',\n '1ba07035f83792154e77ed35d842e04de8a1eeeb',\n 'd14ac2acf1b18e815385c631216eb4ee3a4fc842',\n '20f77d34ab1aec7d0a6e613a740aff7ec7fbf55a',\n '9a3855ac64358d95386cac5120929c88197e26dc',\n '0276aecb97ffa1f7f279e2768abb3484933eacfb']"
     },
     "execution_count": 26,
     "metadata": {},
     "output_type": "execute_result"
    }
   ],
   "source": [
    "# search(title_query='machine learning', abstract_query='deep', max_result_count=10, should_print=True, method='ltn.lnn', weight=0.3)"
   ],
   "metadata": {
    "collapsed": false,
    "ExecuteTime": {
     "start_time": "2023-04-12T05:04:19.008772Z",
     "end_time": "2023-04-12T05:04:52.708530Z"
    }
   }
  },
  {
   "cell_type": "markdown",
   "metadata": {},
   "source": [
    "<div dir=\"rtl\">\n",
    "<font face=\"XB Zar\" size=4>\n",
    "    <h1>\n",
    "    <b>\n",
    "     ارزیابی عملکرد سامانه (۷ + ۱۵\n",
    "     نمره)   \n",
    "     </b>\n",
    "    </h1>\n",
    "    در این قسمت تعدادی پرسمان نمونه به همراه اسناد متناظر برای آن‌ها در فایل validation در اختیار شما قرار گرفته است. در هر مورد اطلاعات لازم برای ایجاد یک پرسمان ذکر شده است. مطابق آن‌ها پرسمان خود را ایجاد کنید سپس نتایج به دست آمده از هر پرسمان را به عنوان predicted results آن پرسمان در نظر بگیرید. همچنین در هر مورد لیستی از شناسه‌ها وجود دارد. این لیست را به عنوان actual results در نظر بگیرید.\n",
    "    <br>\n",
    "    <br>\n",
    "    معیار‌های زیر را پیاده‌سازی کنید (بدون استفاده از کد آماده) و نتیجه این معیارها را روی مجموعه‌ی actual و predicted گزارش کنید. دقت کنید که به ازای هر پرسمان و همچنین مجموع پرسمان‌ها باید تمام معیارها را در قالب مشخص شده گزارش کنید.\n",
    "    <br>\n",
    "    <br>\n",
    "    در این قسمت ۷ نمره به پیاده‌سازی صحیح و ۱۵ نمره به کیفیت نهایی بازیابی مربوط می‌شود.\n",
    "</font>\n",
    "</div>"
   ]
  },
  {
   "cell_type": "code",
   "execution_count": 27,
   "metadata": {
    "ExecuteTime": {
     "start_time": "2023-04-12T05:04:52.710634Z",
     "end_time": "2023-04-12T05:04:52.713602Z"
    }
   },
   "outputs": [],
   "source": [
    "print('Start evaluating...')\n",
    "\n",
    "def calculate_precision(actual: List[List[str]], predicted: List[List[str]]) -> float:\n",
    "    \"\"\"\n",
    "    Calculates the precision of the predicted results\n",
    "\n",
    "    Parameters\n",
    "    ----------\n",
    "    actual : List[List[str]]\n",
    "        The actual results\n",
    "    predicted : List[List[str]]\n",
    "        The predicted results\n",
    "\n",
    "    Returns\n",
    "    -------\n",
    "    float\n",
    "        The precision of the predicted results\n",
    "    \"\"\"\n",
    "    precision = 0.0\n",
    "    for i in range(len(actual)):\n",
    "        precision += calculate_each_precision(actual[i], predicted[i])\n",
    "\n",
    "    return precision / len(actual)\n",
    "\n",
    "def calculate_each_precision(actual: List[str], predicted: List[str]) -> float:\n",
    "    relevant_number = 0\n",
    "    for doc_id in predicted:\n",
    "        if doc_id in actual:\n",
    "            relevant_number += 1\n",
    "\n",
    "    return relevant_number / len(predicted)"
   ]
  },
  {
   "cell_type": "code",
   "execution_count": 28,
   "metadata": {
    "ExecuteTime": {
     "start_time": "2023-04-12T05:04:52.722242Z",
     "end_time": "2023-04-12T05:04:52.724583Z"
    }
   },
   "outputs": [],
   "source": [
    "def calculate_recall(actual: List[List[str]], predicted: List[List[str]]) -> float:\n",
    "    \"\"\"\n",
    "    Calculates the recall of the predicted results\n",
    "\n",
    "    Parameters\n",
    "    ----------\n",
    "    actual : List[List[str]]\n",
    "        The actual results\n",
    "    predicted : List[List[str]]\n",
    "        The predicted results\n",
    "\n",
    "    Returns\n",
    "    -------\n",
    "    float\n",
    "        The recall of the predicted results\n",
    "    \"\"\"\n",
    "    recall = 0.0\n",
    "\n",
    "    for i in range(len(actual)):\n",
    "        recall += calculate_each_recall(actual[i], predicted[i])\n",
    "\n",
    "    return recall / len(actual)\n",
    "\n",
    "def calculate_each_recall(actual: List[str], predicted: List[str]) -> float:\n",
    "    relevant_number = 0\n",
    "    for doc_id in predicted:\n",
    "        if doc_id in actual:\n",
    "            relevant_number += 1\n",
    "\n",
    "    return relevant_number / len(actual)"
   ]
  },
  {
   "cell_type": "code",
   "execution_count": 29,
   "metadata": {
    "ExecuteTime": {
     "start_time": "2023-04-12T05:04:52.724847Z",
     "end_time": "2023-04-12T05:04:52.759736Z"
    }
   },
   "outputs": [],
   "source": [
    "def calculate_F1(actual: List[List[str]], predicted: List[List[str]]) -> float:\n",
    "    \"\"\"\n",
    "    Calculates the F1 score of the predicted results\n",
    "\n",
    "    Parameters\n",
    "    ----------\n",
    "    actual : List[List[str]]\n",
    "        The actual results\n",
    "    predicted : List[List[str]]\n",
    "        The predicted results\n",
    "\n",
    "    Returns\n",
    "    -------\n",
    "    float\n",
    "        The F1 score of the predicted results    \n",
    "    \"\"\"\n",
    "    f1 = 0.0\n",
    "\n",
    "    for i in range(len(actual)):\n",
    "        f1 += calculate_each_F1(actual[i], predicted[i])\n",
    "\n",
    "    return f1 / len(actual)\n",
    "\n",
    "def calculate_each_F1(actual: List[str], predicted: List[str]) -> float:\n",
    "    precision = calculate_each_precision(actual, predicted)\n",
    "    recall = calculate_each_recall(actual, predicted)\n",
    "\n",
    "    if precision + recall == 0:\n",
    "        return 0\n",
    "    return 2 * precision * recall / (precision + recall)"
   ]
  },
  {
   "cell_type": "code",
   "execution_count": 30,
   "metadata": {
    "ExecuteTime": {
     "start_time": "2023-04-12T05:04:52.734033Z",
     "end_time": "2023-04-12T05:04:52.760159Z"
    }
   },
   "outputs": [],
   "source": [
    "def calculate_MAP(actual: List[List[str]], predicted: List[List[str]]) -> float:\n",
    "    \"\"\"\n",
    "    Calculates the Mean Average Precision of the predicted results\n",
    "\n",
    "    Parameters\n",
    "    ----------\n",
    "    actual : List[List[str]]\n",
    "        The actual results\n",
    "    predicted : List[List[str]]\n",
    "        The predicted results\n",
    "\n",
    "    Returns\n",
    "    -------\n",
    "    float\n",
    "        The Mean Average Precision of the predicted results\n",
    "    \"\"\"\n",
    "    map = 0.0\n",
    "\n",
    "    for i in range(len(actual)):\n",
    "        map += calculate_each_MAP(actual[i], predicted[i])\n",
    "\n",
    "    return map / len(actual)\n",
    "\n",
    "def calculate_each_MAP(actual: List[str], predicted: List[str]) -> float:\n",
    "    precision = 0.0\n",
    "    relevant_number = 0\n",
    "    for i in range(len(predicted)):\n",
    "        if predicted[i] in actual:\n",
    "            relevant_number += 1\n",
    "            precision += relevant_number / (i + 1)\n",
    "\n",
    "    if relevant_number == 0:\n",
    "        return 0\n",
    "    return precision / relevant_number"
   ]
  },
  {
   "cell_type": "code",
   "execution_count": 31,
   "metadata": {
    "ExecuteTime": {
     "start_time": "2023-04-12T05:04:52.736712Z",
     "end_time": "2023-04-12T05:04:52.760577Z"
    }
   },
   "outputs": [],
   "source": [
    "def cacluate_NDCG(actual: List[List[str]], predicted: List[List[str]]) -> float:\n",
    "    \"\"\"\n",
    "    Calculates the Normalized Discounted Cumulative Gain (NDCG) of the predicted results\n",
    "\n",
    "    Parameters\n",
    "    ----------\n",
    "    actual : List[List[str]]\n",
    "        The actual results\n",
    "    predicted : List[List[str]]\n",
    "        The predicted results\n",
    "\n",
    "    Returns\n",
    "    -------\n",
    "    float\n",
    "        The NDCG of the predicted results\n",
    "    \"\"\"\n",
    "\n",
    "    ndcg = []\n",
    "    for i in range(len(actual)):\n",
    "        current_actual = actual[i]\n",
    "        perfect_rank = {}\n",
    "        for j in range(len(current_actual)):\n",
    "            doc_id = current_actual[j]\n",
    "            perfect_rank[doc_id] = len(current_actual) - j\n",
    "\n",
    "        current_rank = []\n",
    "        for doc_id in predicted[i]:\n",
    "            if doc_id in perfect_rank:\n",
    "                current_rank.append(perfect_rank[doc_id])\n",
    "            else:\n",
    "                current_rank.append(0)\n",
    "\n",
    "        perfect_ndcg = calculate_DCG(current_actual, list(perfect_rank.values()))\n",
    "        current_ndcg = calculate_DCG(current_actual, current_rank)\n",
    "        ndcg.append(current_ndcg / perfect_ndcg)\n",
    "\n",
    "    return sum(ndcg) / len(ndcg)\n",
    "\n",
    "def calculate_DCG(my_list: List[str], ranks: List[int]) -> float:\n",
    "    dcg = 0.0\n",
    "    for i in range(len(my_list)):\n",
    "        rank = ranks[i]\n",
    "\n",
    "        if i == 0:\n",
    "            dcg += rank\n",
    "        else:\n",
    "            dcg += rank / math.log2(i + 1)\n",
    "\n",
    "    return dcg"
   ]
  },
  {
   "cell_type": "code",
   "execution_count": 32,
   "metadata": {
    "ExecuteTime": {
     "start_time": "2023-04-12T05:04:52.747804Z",
     "end_time": "2023-04-12T05:04:52.760690Z"
    }
   },
   "outputs": [],
   "source": [
    "def cacluate_MRR(actual: List[List[str]], predicted: List[List[str]]) -> float:\n",
    "    \"\"\"\n",
    "    Calculates the Mean Reciprocal Rank of the predicted results\n",
    "\n",
    "    Parameters\n",
    "    ----------\n",
    "    actual : List[List[str]]\n",
    "        The actual results\n",
    "    predicted : List[List[str]]\n",
    "        The predicted results\n",
    "\n",
    "    Returns\n",
    "    -------\n",
    "    float\n",
    "        The MRR of the predicted results\n",
    "    \"\"\"\n",
    "    MRR = 0.0\n",
    "\n",
    "    for i in range(len(actual)):\n",
    "        MRR += find_RR(predicted[i], actual[i])\n",
    "\n",
    "    return MRR / len(actual)\n",
    "\n",
    "def find_first_relevant(predicted: List[str], actual: List[str]) -> int:\n",
    "    for i in range(len(predicted)):\n",
    "        if predicted[i] in actual:\n",
    "            return i + 1\n",
    "\n",
    "    return 0\n",
    "\n",
    "def find_RR(predicted: List[str], actual: List[str]) -> float:\n",
    "    first_relevant = find_first_relevant(predicted, actual)\n",
    "    if first_relevant == 0:\n",
    "        return 0\n",
    "\n",
    "    return 1 / first_relevant"
   ]
  },
  {
   "cell_type": "code",
   "execution_count": 33,
   "outputs": [],
   "source": [
    "with open('AI & Bioinformatics/validation.json', 'r') as file:\n",
    "    validation = json.load(file)\n",
    "    file.close()\n",
    "\n",
    "def get_actual():\n",
    "    global validation\n",
    "    all_actual = []\n",
    "\n",
    "    for abstract_query, actual in validation.items():\n",
    "        all_actual.append(actual)\n",
    "\n",
    "    return all_actual\n",
    "\n",
    "def get_predicted(method):\n",
    "    global validation\n",
    "    all_predicted = []\n",
    "\n",
    "    print(f'Total queries: {len(validation)}')\n",
    "    for abstract_query, actual in validation.items():\n",
    "        result = search(title_query='', abstract_query=abstract_query, weight=1, method=method, max_result_count=10)\n",
    "        all_predicted.append(result)\n",
    "    return all_predicted\n",
    "\n",
    "actual = get_actual()"
   ],
   "metadata": {
    "collapsed": false,
    "ExecuteTime": {
     "start_time": "2023-04-12T05:04:52.750873Z",
     "end_time": "2023-04-12T05:04:52.760772Z"
    }
   }
  },
  {
   "cell_type": "code",
   "execution_count": 34,
   "outputs": [
    {
     "name": "stdout",
     "output_type": "stream",
     "text": [
      "Total queries: 6\n"
     ]
    },
    {
     "name": "stderr",
     "output_type": "stream",
     "text": [
      "Checked documents: 100%|██████████| 1996/1996 [00:59<00:00, 33.48it/s]\n",
      "Checked documents: 100%|██████████| 1225/1225 [00:36<00:00, 33.57it/s]\n",
      "Checked documents: 100%|██████████| 1405/1405 [00:43<00:00, 31.97it/s]\n",
      "Checked documents: 100%|██████████| 1624/1624 [00:49<00:00, 32.89it/s]\n",
      "Checked documents: 100%|██████████| 1060/1060 [00:32<00:00, 32.57it/s]\n",
      "Checked documents: 100%|██████████| 244/244 [00:06<00:00, 35.18it/s]\n"
     ]
    }
   ],
   "source": [
    "# predicted_ltn_lnn = get_predicted('ltn.lnn')"
   ],
   "metadata": {
    "collapsed": false,
    "ExecuteTime": {
     "start_time": "2023-04-12T05:04:52.759973Z",
     "end_time": "2023-04-12T05:08:41.697678Z"
    }
   }
  },
  {
   "cell_type": "code",
   "execution_count": 35,
   "metadata": {
    "ExecuteTime": {
     "start_time": "2023-04-12T05:08:41.695677Z",
     "end_time": "2023-04-12T05:08:41.703786Z"
    }
   },
   "outputs": [
    {
     "name": "stdout",
     "output_type": "stream",
     "text": [
      "ltn.lnn precision = 0.15\n",
      "ltn.lnn recall = 0.15\n",
      "ltn.lnn F1 = 0.15000000000000002\n",
      "ltn.lnn MAP = 0.36388888888888893\n",
      "ltn.lnn NDCG = 0.19332694118306512\n",
      "ltn.lnn MRR = 0.4166666666666667\n"
     ]
    }
   ],
   "source": [
    "# print(f\"ltn.lnn precision = {calculate_precision(actual, predicted_ltn_lnn)}\")\n",
    "# print(f\"ltn.lnn recall = {calculate_recall(actual, predicted_ltn_lnn)}\")\n",
    "# print(f\"ltn.lnn F1 = {calculate_F1(actual, predicted_ltn_lnn)}\")\n",
    "# print(f\"ltn.lnn MAP = {calculate_MAP(actual, predicted_ltn_lnn)}\")\n",
    "# print(f\"ltn.lnn NDCG = {cacluate_NDCG(actual, predicted_ltn_lnn)}\")\n",
    "# print(f\"ltn.lnn MRR = {cacluate_MRR(actual, predicted_ltn_lnn)}\")"
   ]
  },
  {
   "cell_type": "code",
   "execution_count": 36,
   "outputs": [
    {
     "name": "stdout",
     "output_type": "stream",
     "text": [
      "Total queries: 6\n"
     ]
    },
    {
     "name": "stderr",
     "output_type": "stream",
     "text": [
      "Checked documents: 100%|██████████| 1996/1996 [00:59<00:00, 33.49it/s]\n",
      "Checked documents: 100%|██████████| 1225/1225 [00:36<00:00, 33.41it/s]\n",
      "Checked documents: 100%|██████████| 1405/1405 [00:44<00:00, 31.92it/s]\n",
      "Checked documents: 100%|██████████| 1624/1624 [00:49<00:00, 32.78it/s]\n",
      "Checked documents: 100%|██████████| 1060/1060 [00:32<00:00, 32.64it/s]\n",
      "Checked documents: 100%|██████████| 244/244 [00:06<00:00, 35.43it/s]\n"
     ]
    }
   ],
   "source": [
    "# predicted_ltc_lnc = get_predicted('ltc.lnc')"
   ],
   "metadata": {
    "collapsed": false,
    "ExecuteTime": {
     "start_time": "2023-04-12T05:08:41.702459Z",
     "end_time": "2023-04-12T05:12:30.918658Z"
    }
   }
  },
  {
   "cell_type": "code",
   "execution_count": 37,
   "metadata": {
    "ExecuteTime": {
     "start_time": "2023-04-12T05:12:30.918550Z",
     "end_time": "2023-04-12T05:12:30.926077Z"
    }
   },
   "outputs": [
    {
     "name": "stdout",
     "output_type": "stream",
     "text": [
      "ltc.lnc precision = 0.13333333333333333\n",
      "ltc.lnc recall = 0.13333333333333333\n",
      "ltc.lnc F1 = 0.13333333333333333\n",
      "ltc.lnc MAP = 0.23769841269841266\n",
      "ltc.lnc NDCG = 0.1482225508747286\n",
      "ltc.lnc MRR = 0.2833333333333333\n"
     ]
    }
   ],
   "source": [
    "# print(f\"ltc.lnc precision = {calculate_precision(actual, predicted_ltc_lnc)}\")\n",
    "# print(f\"ltc.lnc recall = {calculate_recall(actual, predicted_ltc_lnc)}\")\n",
    "# print(f\"ltc.lnc F1 = {calculate_F1(actual, predicted_ltc_lnc)}\")\n",
    "# print(f\"ltc.lnc MAP = {calculate_MAP(actual, predicted_ltc_lnc)}\")\n",
    "# print(f\"ltc.lnc NDCG = {cacluate_NDCG(actual, predicted_ltc_lnc)}\")\n",
    "# print(f\"ltc.lnc MRR = {cacluate_MRR(actual, predicted_ltc_lnc)}\")"
   ]
  },
  {
   "cell_type": "code",
   "execution_count": 38,
   "outputs": [
    {
     "name": "stdout",
     "output_type": "stream",
     "text": [
      "Total queries: 6\n"
     ]
    },
    {
     "name": "stderr",
     "output_type": "stream",
     "text": [
      "Checked documents: 100%|██████████| 1996/1996 [00:03<00:00, 507.75it/s]\n",
      "Checked documents: 100%|██████████| 1225/1225 [00:02<00:00, 577.83it/s]\n",
      "Checked documents: 100%|██████████| 1405/1405 [00:02<00:00, 594.87it/s]\n",
      "Checked documents: 100%|██████████| 2065/2065 [00:04<00:00, 506.69it/s]\n",
      "Checked documents: 100%|██████████| 1060/1060 [00:01<00:00, 668.79it/s]\n",
      "Checked documents: 100%|██████████| 244/244 [00:00<00:00, 748.19it/s]\n"
     ]
    }
   ],
   "source": [
    "# predicted_okapi25 = get_predicted('okapi25')"
   ],
   "metadata": {
    "collapsed": false,
    "ExecuteTime": {
     "start_time": "2023-04-12T05:12:30.924706Z",
     "end_time": "2023-04-12T05:12:45.348021Z"
    }
   }
  },
  {
   "cell_type": "code",
   "execution_count": 39,
   "metadata": {
    "ExecuteTime": {
     "start_time": "2023-04-12T05:12:45.351110Z",
     "end_time": "2023-04-12T05:12:45.369256Z"
    }
   },
   "outputs": [
    {
     "name": "stdout",
     "output_type": "stream",
     "text": [
      "Okapi BM25 precision = 0.5499999999999999\n",
      "Okapi BM25 recall = 0.5499999999999999\n",
      "Okapi BM25 F1 = 0.5499999999999999\n",
      "Okapi BM25 MAP = 0.7031084656084655\n",
      "Okapi BM25 NDCG = 0.49212054992108323\n",
      "Okapi BM25 MRR = 0.7182539682539684\n"
     ]
    }
   ],
   "source": [
    "# print(f\"Okapi BM25 precision = {calculate_precision(actual, predicted_okapi25)}\")\n",
    "# print(f\"Okapi BM25 recall = {calculate_recall(actual, predicted_okapi25)}\")\n",
    "# print(f\"Okapi BM25 F1 = {calculate_F1(actual, predicted_okapi25)}\")\n",
    "# print(f\"Okapi BM25 MAP = {calculate_MAP(actual, predicted_okapi25)}\")\n",
    "# print(f\"Okapi BM25 NDCG = {cacluate_NDCG(actual, predicted_okapi25)}\")\n",
    "# print(f\"Okapi BM25 MRR = {cacluate_MRR(actual, predicted_okapi25)}\")"
   ]
  },
  {
   "cell_type": "code",
   "execution_count": null,
   "outputs": [],
   "source": [
    "print('End')"
   ],
   "metadata": {
    "collapsed": false
   }
  }
 ],
 "metadata": {
  "kernelspec": {
   "display_name": "Python 3 (ipykernel)",
   "language": "python",
   "name": "python3"
  },
  "language_info": {
   "codemirror_mode": {
    "name": "ipython",
    "version": 3
   },
   "file_extension": ".py",
   "mimetype": "text/x-python",
   "name": "python",
   "nbconvert_exporter": "python",
   "pygments_lexer": "ipython3",
   "version": "3.8.13"
  },
  "vscode": {
   "interpreter": {
    "hash": "08ac30a6a1fd2e576b33e03f7d61c3a285d7ee0582c2dd23dde6343ef303ebe9"
   }
  }
 },
 "nbformat": 4,
 "nbformat_minor": 2
}
